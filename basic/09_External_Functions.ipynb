{
  "nbformat": 4,
  "nbformat_minor": 0,
  "metadata": {
    "colab": {
      "name": "09_External Functions.ipynb",
      "provenance": [],
      "toc_visible": true,
      "authorship_tag": "ABX9TyPxo+sl9BkthkSwnH64LPkv",
      "include_colab_link": true
    },
    "kernelspec": {
      "name": "python3",
      "display_name": "Python 3"
    }
  },
  "cells": [
    {
      "cell_type": "markdown",
      "metadata": {
        "id": "view-in-github",
        "colab_type": "text"
      },
      "source": [
        "<a href=\"https://colab.research.google.com/github/gwangjinjeong/Python/blob/master/basic/09_External_Functions.ipynb\" target=\"_parent\"><img src=\"https://colab.research.google.com/assets/colab-badge.svg\" alt=\"Open In Colab\"/></a>"
      ]
    },
    {
      "cell_type": "markdown",
      "metadata": {
        "id": "6hiHshO5p6BD",
        "colab_type": "text"
      },
      "source": [
        "#*2. External Function(외장함수)*"
      ]
    },
    {
      "cell_type": "markdown",
      "metadata": {
        "id": "4n5YMjUateQz",
        "colab_type": "text"
      },
      "source": [
        "* sys\n",
        "* pickle\n",
        "* shutil\n",
        "* temfile\n",
        "* time\n",
        "* random"
      ]
    },
    {
      "cell_type": "markdown",
      "metadata": {
        "id": "v9yLsgTVtjlN",
        "colab_type": "text"
      },
      "source": [
        "## 2.1 sys : 파일 실행시 인자 전달하는 것처럼 argument를 쓸 수 있다."
      ]
    },
    {
      "cell_type": "code",
      "metadata": {
        "id": "WztELB1Wp2MA",
        "colab_type": "code",
        "colab": {}
      },
      "source": [
        "import sys"
      ],
      "execution_count": 0,
      "outputs": []
    },
    {
      "cell_type": "code",
      "metadata": {
        "id": "Kk4QsuwUtyZN",
        "colab_type": "code",
        "colab": {
          "base_uri": "https://localhost:8080/",
          "height": 35
        },
        "outputId": "56d04d8b-bf2d-4a05-cd07-76b28275ec42"
      },
      "source": [
        "print(sys.argv)"
      ],
      "execution_count": 2,
      "outputs": [
        {
          "output_type": "stream",
          "text": [
            "['/usr/local/lib/python3.6/dist-packages/ipykernel_launcher.py', '-f', '/root/.local/share/jupyter/runtime/kernel-bc7d9db7-844b-4843-b9c1-8df102531898.json']\n"
          ],
          "name": "stdout"
        }
      ]
    },
    {
      "cell_type": "markdown",
      "metadata": {
        "id": "gRFPSYx2tzga",
        "colab_type": "text"
      },
      "source": [
        "`sys.exit()` # 프로그램을 강제 종료하는 함수"
      ]
    },
    {
      "cell_type": "code",
      "metadata": {
        "id": "8bDpNGEMt-nx",
        "colab_type": "code",
        "colab": {
          "base_uri": "https://localhost:8080/",
          "height": 55
        },
        "outputId": "fcd6f7b5-8888-42ef-9414-a9ca737af886"
      },
      "source": [
        "print(sys.path)"
      ],
      "execution_count": 3,
      "outputs": [
        {
          "output_type": "stream",
          "text": [
            "['', '/env/python', '/usr/lib/python36.zip', '/usr/lib/python3.6', '/usr/lib/python3.6/lib-dynload', '/usr/local/lib/python3.6/dist-packages', '/usr/lib/python3/dist-packages', '/usr/local/lib/python3.6/dist-packages/IPython/extensions', '/root/.ipython']\n"
          ],
          "name": "stdout"
        }
      ]
    },
    {
      "cell_type": "markdown",
      "metadata": {
        "id": "TPVdeD8DuNfV",
        "colab_type": "text"
      },
      "source": [
        "## 2.2 pickle : 객체를 읽고 쓰기\n",
        "주로 클래스, 변수, 메소드와 같은 python의 자료형을 저장하고, 읽어올수있다."
      ]
    },
    {
      "cell_type": "markdown",
      "metadata": {
        "id": "1y6PMnJIvI2m",
        "colab_type": "text"
      },
      "source": [
        "### 2.2.1 Write"
      ]
    },
    {
      "cell_type": "code",
      "metadata": {
        "id": "SsGlmN6PuArc",
        "colab_type": "code",
        "colab": {}
      },
      "source": [
        "import pickle"
      ],
      "execution_count": 0,
      "outputs": []
    },
    {
      "cell_type": "code",
      "metadata": {
        "id": "nJaIs0Kmubaz",
        "colab_type": "code",
        "colab": {}
      },
      "source": [
        "f = open(\"test.obj\", 'wb')"
      ],
      "execution_count": 0,
      "outputs": []
    },
    {
      "cell_type": "code",
      "metadata": {
        "id": "l1ljS2gouzli",
        "colab_type": "code",
        "colab": {}
      },
      "source": [
        "obj = {1 : 'python', 2 : 'study', 3 : 'basic'}"
      ],
      "execution_count": 0,
      "outputs": []
    },
    {
      "cell_type": "code",
      "metadata": {
        "id": "TMTW-O1Xu6pA",
        "colab_type": "code",
        "colab": {}
      },
      "source": [
        "pickle.dump(obj, f)"
      ],
      "execution_count": 0,
      "outputs": []
    },
    {
      "cell_type": "code",
      "metadata": {
        "id": "iGsmq2Lhu9NN",
        "colab_type": "code",
        "colab": {}
      },
      "source": [
        "f.close()"
      ],
      "execution_count": 0,
      "outputs": []
    },
    {
      "cell_type": "code",
      "metadata": {
        "id": "o_-xRtbpu-VS",
        "colab_type": "code",
        "colab": {
          "base_uri": "https://localhost:8080/",
          "height": 35
        },
        "outputId": "53e6c73c-ae67-4b62-e65e-dce7004ad914"
      },
      "source": [
        "ls"
      ],
      "execution_count": 9,
      "outputs": [
        {
          "output_type": "stream",
          "text": [
            "\u001b[0m\u001b[01;34msample_data\u001b[0m/  test.obj\n"
          ],
          "name": "stdout"
        }
      ]
    },
    {
      "cell_type": "markdown",
      "metadata": {
        "id": "YySyiPnvviDu",
        "colab_type": "text"
      },
      "source": [
        "### 2.2.2 Open"
      ]
    },
    {
      "cell_type": "code",
      "metadata": {
        "id": "q3eeqk0MvEbd",
        "colab_type": "code",
        "colab": {
          "base_uri": "https://localhost:8080/",
          "height": 52
        },
        "outputId": "1a11c0b8-4f35-46f4-ddfa-64a1f5d2d744"
      },
      "source": [
        "f = open('test.obj', 'rb')\n",
        "data = pickle.load(f)\n",
        "print(data); print(type(data))\n",
        "f.close()"
      ],
      "execution_count": 10,
      "outputs": [
        {
          "output_type": "stream",
          "text": [
            "{1: 'python', 2: 'study', 3: 'basic'}\n",
            "<class 'dict'>\n"
          ],
          "name": "stdout"
        }
      ]
    },
    {
      "cell_type": "markdown",
      "metadata": {
        "id": "t0EVNHKywAQw",
        "colab_type": "text"
      },
      "source": [
        "## 2.3 os : 환경변수, 디렉토리(파일) 처리, 운영체제 작업"
      ]
    },
    {
      "cell_type": "markdown",
      "metadata": {
        "id": "pSHrtjfAwIN5",
        "colab_type": "text"
      },
      "source": [
        "mkdir, rmdir, renmae 등 사용 가능하다."
      ]
    },
    {
      "cell_type": "code",
      "metadata": {
        "id": "TlVjp9Zsvt1h",
        "colab_type": "code",
        "colab": {
          "base_uri": "https://localhost:8080/",
          "height": 55
        },
        "outputId": "96264230-d837-4ee1-a3e4-5da3b3bc9e2e"
      },
      "source": [
        "import os\n",
        "print(os.environ)"
      ],
      "execution_count": 14,
      "outputs": [
        {
          "output_type": "stream",
          "text": [
            "environ({'ENV': '/root/.bashrc', 'GCS_READ_CACHE_BLOCK_SIZE_MB': '16', 'CLOUDSDK_CONFIG': '/content/.config', 'CUDA_VERSION': '10.1.243', 'PATH': '/usr/local/nvidia/bin:/usr/local/cuda/bin:/usr/local/sbin:/usr/local/bin:/usr/sbin:/usr/bin:/sbin:/bin:/tools/node/bin:/tools/google-cloud-sdk/bin:/opt/bin', 'HOME': '/root', 'LD_LIBRARY_PATH': '/usr/local/nvidia/lib:/usr/local/nvidia/lib64', 'LANG': 'en_US.UTF-8', 'SHELL': '/bin/bash', 'LIBRARY_PATH': '/usr/local/cuda/lib64/stubs', 'CUDA_PKG_VERSION': '10-1=10.1.243-1', 'SHLVL': '1', 'GCE_METADATA_TIMEOUT': '0', 'NCCL_VERSION': '2.4.8', 'NVIDIA_VISIBLE_DEVICES': 'all', 'TF_FORCE_GPU_ALLOW_GROWTH': 'true', 'DEBIAN_FRONTEND': 'noninteractive', 'CUDNN_VERSION': '7.6.5.32', 'LAST_FORCED_REBUILD': '20200302', 'JPY_PARENT_PID': '26', 'PYTHONPATH': '/env/python', 'DATALAB_SETTINGS_OVERRIDES': '{\"kernelManagerProxyPort\":6000,\"kernelManagerProxyHost\":\"172.28.0.3\",\"jupyterArgs\":[\"--ip=\\\\\"172.28.0.2\\\\\"\"]}', 'NO_GCE_CHECK': 'True', 'GLIBCXX_FORCE_NEW': '1', 'NVIDIA_DRIVER_CAPABILITIES': 'compute,utility', '_': '/tools/node/bin/node', 'LD_PRELOAD': '/usr/lib/x86_64-linux-gnu/libtcmalloc.so.4', 'NVIDIA_REQUIRE_CUDA': 'cuda>=10.1 brand=tesla,driver>=384,driver<385 brand=tesla,driver>=396,driver<397 brand=tesla,driver>=410,driver<411', 'OLDPWD': '/', 'HOSTNAME': 'e2b22ceb7304', 'COLAB_GPU': '0', 'PWD': '/', 'GLIBCPP_FORCE_NEW': '1', 'PYTHONWARNINGS': 'ignore:::pip._internal.cli.base_command', 'TBE_CREDS_ADDR': '172.28.0.1:8008', 'TERM': 'xterm-color', 'CLICOLOR': '1', 'PAGER': 'cat', 'GIT_PAGER': 'cat', 'MPLBACKEND': 'module://ipykernel.pylab.backend_inline'})\n"
          ],
          "name": "stdout"
        }
      ]
    },
    {
      "cell_type": "code",
      "metadata": {
        "id": "PHxcCeclwLfp",
        "colab_type": "code",
        "colab": {
          "base_uri": "https://localhost:8080/",
          "height": 35
        },
        "outputId": "9df2c47e-81cb-4f8d-c681-6fa5560702b3"
      },
      "source": [
        "print(os.environ['CUDA_VERSION'])"
      ],
      "execution_count": 16,
      "outputs": [
        {
          "output_type": "stream",
          "text": [
            "10.1.243\n"
          ],
          "name": "stdout"
        }
      ]
    },
    {
      "cell_type": "code",
      "metadata": {
        "id": "fGYGSJH7wMeG",
        "colab_type": "code",
        "colab": {
          "base_uri": "https://localhost:8080/",
          "height": 35
        },
        "outputId": "8638e20b-17eb-4e6b-f33c-06c81765b084"
      },
      "source": [
        "print(os.getcwd())"
      ],
      "execution_count": 17,
      "outputs": [
        {
          "output_type": "stream",
          "text": [
            "/content\n"
          ],
          "name": "stdout"
        }
      ]
    },
    {
      "cell_type": "markdown",
      "metadata": {
        "id": "ouDQaHKLwqi1",
        "colab_type": "text"
      },
      "source": [
        "## 2.4 time 시간 관련 처리"
      ]
    },
    {
      "cell_type": "code",
      "metadata": {
        "id": "hifjV_ulw3Ud",
        "colab_type": "code",
        "colab": {}
      },
      "source": [
        "import time"
      ],
      "execution_count": 0,
      "outputs": []
    },
    {
      "cell_type": "code",
      "metadata": {
        "id": "k_WqoebEwokP",
        "colab_type": "code",
        "colab": {
          "base_uri": "https://localhost:8080/",
          "height": 35
        },
        "outputId": "7cfcff89-f4b3-42b9-846e-7c5a1f949271"
      },
      "source": [
        "print(time.time())"
      ],
      "execution_count": 21,
      "outputs": [
        {
          "output_type": "stream",
          "text": [
            "1583849120.5508146\n"
          ],
          "name": "stdout"
        }
      ]
    },
    {
      "cell_type": "code",
      "metadata": {
        "id": "1kmhEAg2w2Cg",
        "colab_type": "code",
        "colab": {
          "base_uri": "https://localhost:8080/",
          "height": 35
        },
        "outputId": "9a31149a-af2c-4e0a-9b62-fb091965caaf"
      },
      "source": [
        "print(time.localtime(time.time())) # 현재시간을 분해해서 보여준다."
      ],
      "execution_count": 23,
      "outputs": [
        {
          "output_type": "stream",
          "text": [
            "time.struct_time(tm_year=2020, tm_mon=3, tm_mday=10, tm_hour=14, tm_min=6, tm_sec=0, tm_wday=1, tm_yday=70, tm_isdst=0)\n"
          ],
          "name": "stdout"
        }
      ]
    },
    {
      "cell_type": "code",
      "metadata": {
        "id": "GYyClBCSw_ct",
        "colab_type": "code",
        "colab": {
          "base_uri": "https://localhost:8080/",
          "height": 35
        },
        "outputId": "80395b85-7673-4fe2-b399-62a80aef5191"
      },
      "source": [
        "print(time.ctime())"
      ],
      "execution_count": 24,
      "outputs": [
        {
          "output_type": "stream",
          "text": [
            "Tue Mar 10 14:06:16 2020\n"
          ],
          "name": "stdout"
        }
      ]
    },
    {
      "cell_type": "code",
      "metadata": {
        "id": "YRZ_lVHdxHz6",
        "colab_type": "code",
        "colab": {
          "base_uri": "https://localhost:8080/",
          "height": 35
        },
        "outputId": "7b3b5220-5fe6-4632-b22d-e433f2ae4a4a"
      },
      "source": [
        "print(time.strftime('%Y-%m-%d %H:%M:%S',time.localtime(time.time())))"
      ],
      "execution_count": 26,
      "outputs": [
        {
          "output_type": "stream",
          "text": [
            "2020-03-10 14:07:11\n"
          ],
          "name": "stdout"
        }
      ]
    },
    {
      "cell_type": "code",
      "metadata": {
        "id": "R43ACJc5xUDW",
        "colab_type": "code",
        "colab": {
          "base_uri": "https://localhost:8080/",
          "height": 105
        },
        "outputId": "b3d9f310-e078-4623-f9fe-4d63a22a6469"
      },
      "source": [
        "for i in range(5):\n",
        "  print(i)\n",
        "  time.sleep(1) # 초 이 후 실행될수 있도록"
      ],
      "execution_count": 27,
      "outputs": [
        {
          "output_type": "stream",
          "text": [
            "0\n",
            "1\n",
            "2\n",
            "3\n",
            "4\n"
          ],
          "name": "stdout"
        }
      ]
    },
    {
      "cell_type": "markdown",
      "metadata": {
        "id": "IXYGG_ClxmHl",
        "colab_type": "text"
      },
      "source": [
        "## 2.5 random 난수 리턴"
      ]
    },
    {
      "cell_type": "code",
      "metadata": {
        "id": "-drzd22exaka",
        "colab_type": "code",
        "colab": {}
      },
      "source": [
        "import random"
      ],
      "execution_count": 0,
      "outputs": []
    },
    {
      "cell_type": "code",
      "metadata": {
        "id": "fYQd2zSGxq1v",
        "colab_type": "code",
        "colab": {
          "base_uri": "https://localhost:8080/",
          "height": 35
        },
        "outputId": "25eb40b3-1aea-49b5-b743-8f31cc2c32dc"
      },
      "source": [
        "print(random.random())"
      ],
      "execution_count": 29,
      "outputs": [
        {
          "output_type": "stream",
          "text": [
            "0.7985954134478281\n"
          ],
          "name": "stdout"
        }
      ]
    },
    {
      "cell_type": "code",
      "metadata": {
        "id": "Hx-ntfbjxsda",
        "colab_type": "code",
        "colab": {
          "base_uri": "https://localhost:8080/",
          "height": 35
        },
        "outputId": "b5053e5d-8a27-4a3e-f44c-729e5f236872"
      },
      "source": [
        "print(random.randint(1,45))"
      ],
      "execution_count": 31,
      "outputs": [
        {
          "output_type": "stream",
          "text": [
            "24\n"
          ],
          "name": "stdout"
        }
      ]
    },
    {
      "cell_type": "code",
      "metadata": {
        "id": "FOMGLnlRxuIE",
        "colab_type": "code",
        "colab": {
          "base_uri": "https://localhost:8080/",
          "height": 35
        },
        "outputId": "bdcbc6e7-19b0-491d-c7df-42519980228b"
      },
      "source": [
        "print(random.randrange(1,45))"
      ],
      "execution_count": 32,
      "outputs": [
        {
          "output_type": "stream",
          "text": [
            "25\n"
          ],
          "name": "stdout"
        }
      ]
    },
    {
      "cell_type": "code",
      "metadata": {
        "id": "XagkSd4Exxl3",
        "colab_type": "code",
        "colab": {
          "base_uri": "https://localhost:8080/",
          "height": 35
        },
        "outputId": "b8ef5099-6bd4-4063-bed5-396d47d22256"
      },
      "source": [
        "# 랜덤으로 리스트를 섞어서 반환\n",
        "d = [1,2,3,4,5]\n",
        "random.shuffle(d)\n",
        "print(d)"
      ],
      "execution_count": 34,
      "outputs": [
        {
          "output_type": "stream",
          "text": [
            "[5, 4, 3, 1, 2]\n"
          ],
          "name": "stdout"
        }
      ]
    },
    {
      "cell_type": "code",
      "metadata": {
        "id": "seltt4M8x1OV",
        "colab_type": "code",
        "colab": {
          "base_uri": "https://localhost:8080/",
          "height": 35
        },
        "outputId": "9fa96510-85d0-4466-977a-c8af306af43f"
      },
      "source": [
        "# 랜덤으로 리스트를 섞어서 무작위로 1개 선택\n",
        "c = random.choice(d)\n",
        "print(c)"
      ],
      "execution_count": 35,
      "outputs": [
        {
          "output_type": "stream",
          "text": [
            "1\n"
          ],
          "name": "stdout"
        }
      ]
    },
    {
      "cell_type": "markdown",
      "metadata": {
        "id": "oQLeKV18yCIV",
        "colab_type": "text"
      },
      "source": [
        "## 2.6 webbrowser : 웹 브라우저 실행\n",
        "크롤링할때 주로 사용한다."
      ]
    },
    {
      "cell_type": "code",
      "metadata": {
        "id": "f0X-Sk5GyBys",
        "colab_type": "code",
        "colab": {}
      },
      "source": [
        "import webbrowser"
      ],
      "execution_count": 0,
      "outputs": []
    },
    {
      "cell_type": "code",
      "metadata": {
        "id": "KUS8INGZyQK3",
        "colab_type": "code",
        "colab": {
          "base_uri": "https://localhost:8080/",
          "height": 35
        },
        "outputId": "34d56ceb-501f-487e-c772-a82f3fcf375e"
      },
      "source": [
        "webbrowser.open(\"http://google.com\")"
      ],
      "execution_count": 37,
      "outputs": [
        {
          "output_type": "execute_result",
          "data": {
            "text/plain": [
              "False"
            ]
          },
          "metadata": {
            "tags": []
          },
          "execution_count": 37
        }
      ]
    },
    {
      "cell_type": "code",
      "metadata": {
        "id": "jftoXmmMyPPm",
        "colab_type": "code",
        "colab": {
          "base_uri": "https://localhost:8080/",
          "height": 35
        },
        "outputId": "4ed41d08-0c5f-428b-c1cf-b3a3334970df"
      },
      "source": [
        "webbrowser.open_new(\"http://google.com\")"
      ],
      "execution_count": 38,
      "outputs": [
        {
          "output_type": "execute_result",
          "data": {
            "text/plain": [
              "False"
            ]
          },
          "metadata": {
            "tags": []
          },
          "execution_count": 38
        }
      ]
    },
    {
      "cell_type": "markdown",
      "metadata": {
        "id": "C_oaHGZ9ySJF",
        "colab_type": "text"
      },
      "source": [
        "단, 이것은 `Colab`내에서는 실행이 되지는 않는다."
      ]
    }
  ]
}