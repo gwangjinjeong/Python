{
  "nbformat": 4,
  "nbformat_minor": 0,
  "metadata": {
    "colab": {
      "name": "07_Module&Package.ipynb",
      "provenance": [],
      "collapsed_sections": [],
      "toc_visible": true,
      "authorship_tag": "ABX9TyPUIZ/4zen0Ae7hd3hseBYy",
      "include_colab_link": true
    },
    "kernelspec": {
      "name": "python3",
      "display_name": "Python 3"
    }
  },
  "cells": [
    {
      "cell_type": "markdown",
      "metadata": {
        "id": "view-in-github",
        "colab_type": "text"
      },
      "source": [
        "<a href=\"https://colab.research.google.com/github/gwangjinjeong/Python/blob/master/basic/07_Module%26Package.ipynb\" target=\"_parent\"><img src=\"https://colab.research.google.com/assets/colab-badge.svg\" alt=\"Open In Colab\"/></a>"
      ]
    },
    {
      "cell_type": "markdown",
      "metadata": {
        "id": "z2SSN6vGklKo",
        "colab_type": "text"
      },
      "source": [
        "# 07_Module & Package"
      ]
    },
    {
      "cell_type": "markdown",
      "metadata": {
        "id": "iFXhparGksG1",
        "colab_type": "text"
      },
      "source": [
        "* 목적 : 다른사람이 import를 함으로써  클래스를 재사용가능하게 한다.   \n",
        "* 정의 : 함수, 변수, 클래스 등 파이썬 구성요소를 모아놓은 파일을 의미한다.  "
      ]
    },
    {
      "cell_type": "markdown",
      "metadata": {
        "id": "Elen206WlLV5",
        "colab_type": "text"
      },
      "source": [
        "## *1. Module Example*"
      ]
    },
    {
      "cell_type": "markdown",
      "metadata": {
        "id": "undZmVzevA4T",
        "colab_type": "text"
      },
      "source": [
        "### 1) Inner function의 예"
      ]
    },
    {
      "cell_type": "code",
      "metadata": {
        "id": "WbPO6mxSlpAQ",
        "colab_type": "code",
        "colab": {}
      },
      "source": [
        "def add(x, y):\n",
        "  return x + y\n",
        "def substract(x, y):\n",
        "  return x - y\n",
        "def multiply(x, y):\n",
        "  return x * y\n",
        "def divide(x, y):\n",
        "  return x / y\n",
        "def power(x, y):\n",
        "  return x ** y"
      ],
      "execution_count": 0,
      "outputs": []
    },
    {
      "cell_type": "code",
      "metadata": {
        "id": "e317mwszmAHe",
        "colab_type": "code",
        "outputId": "c801e69c-aabf-4963-9a36-1018b6750e76",
        "colab": {
          "base_uri": "https://localhost:8080/",
          "height": 153
        }
      },
      "source": [
        "print('-'*15)\n",
        "print('called! the inner function!')\n",
        "print(add(5,5))\n",
        "print(substract(15,5))\n",
        "print(multiply(5,5))\n",
        "print(divide(10,2))\n",
        "print(power(5,3))\n",
        "print('-'*15)"
      ],
      "execution_count": 0,
      "outputs": [
        {
          "output_type": "stream",
          "text": [
            "---------------\n",
            "called! the inner function!\n",
            "10\n",
            "10\n",
            "25\n",
            "5.0\n",
            "125\n",
            "---------------\n"
          ],
          "name": "stdout"
        }
      ]
    },
    {
      "cell_type": "markdown",
      "metadata": {
        "id": "Wy2iuxOqwCZY",
        "colab_type": "text"
      },
      "source": [
        "### 2) **환경변수** 삽입\n",
        "현재폴더를 환경변수에 추가하여 만든 모듈을 바로 import하기 위한 단계"
      ]
    },
    {
      "cell_type": "code",
      "metadata": {
        "id": "YUiM6isNpEQ9",
        "colab_type": "code",
        "outputId": "f9ac4e84-83e3-439d-b3c2-8f8ea233ca68",
        "colab": {
          "base_uri": "https://localhost:8080/",
          "height": 54
        }
      },
      "source": [
        "import sys, os\n",
        "print(sys.path) # 환경변수 폴더 목록\n",
        "sys.path.append(os.getcwd()) # 현재 폴더를 환경변수에 추가"
      ],
      "execution_count": 0,
      "outputs": [
        {
          "output_type": "stream",
          "text": [
            "['', '/env/python', '/usr/lib/python36.zip', '/usr/lib/python3.6', '/usr/lib/python3.6/lib-dynload', '/usr/local/lib/python3.6/dist-packages', '/usr/lib/python3/dist-packages', '/usr/local/lib/python3.6/dist-packages/IPython/extensions', '/root/.ipython']\n"
          ],
          "name": "stdout"
        }
      ]
    },
    {
      "cell_type": "markdown",
      "metadata": {
        "id": "V80WXHm6wGul",
        "colab_type": "text"
      },
      "source": [
        "### 3) 파일쓰기"
      ]
    },
    {
      "cell_type": "code",
      "metadata": {
        "id": "tENugHWFqrTa",
        "colab_type": "code",
        "outputId": "d38b98b1-8f9c-433f-c769-47d3bec40e21",
        "colab": {
          "base_uri": "https://localhost:8080/",
          "height": 34
        }
      },
      "source": [
        "%%writefile test_module.py\n",
        "def add(x, y):\n",
        "  return x + y\n",
        "def substract(x, y):\n",
        "  return x - y\n",
        "def multiply(x, y):\n",
        "  return x * y\n",
        "def divide(x, y):\n",
        "  return x / y\n",
        "def power(x, y):\n",
        "  return x ** y"
      ],
      "execution_count": 0,
      "outputs": [
        {
          "output_type": "stream",
          "text": [
            "Overwriting test_module.py\n"
          ],
          "name": "stdout"
        }
      ]
    },
    {
      "cell_type": "markdown",
      "metadata": {
        "id": "DyeBNvz0wKuj",
        "colab_type": "text"
      },
      "source": [
        "### 4) 파일 읽고 실행"
      ]
    },
    {
      "cell_type": "code",
      "metadata": {
        "id": "nyeGqcUqrWRn",
        "colab_type": "code",
        "colab": {}
      },
      "source": [
        "import test_module"
      ],
      "execution_count": 0,
      "outputs": []
    },
    {
      "cell_type": "code",
      "metadata": {
        "id": "JCRtt6sTtO3T",
        "colab_type": "code",
        "outputId": "f6c2deca-945b-4300-fd65-979461838262",
        "colab": {
          "base_uri": "https://localhost:8080/",
          "height": 34
        }
      },
      "source": [
        "print(test_module.power(10,3))"
      ],
      "execution_count": 0,
      "outputs": [
        {
          "output_type": "stream",
          "text": [
            "1000\n"
          ],
          "name": "stdout"
        }
      ]
    },
    {
      "cell_type": "markdown",
      "metadata": {
        "id": "AlaJIPbNwN9O",
        "colab_type": "text"
      },
      "source": [
        "### +) \\_\\_name__\n",
        "일반적으로 __name__부분에 예시실행코드를 추가해놓는다.   "
      ]
    },
    {
      "cell_type": "code",
      "metadata": {
        "id": "hNCJK6JOwt7d",
        "colab_type": "code",
        "outputId": "499f1400-9fd4-468f-d9b3-576cffe3f8f6",
        "colab": {
          "base_uri": "https://localhost:8080/",
          "height": 34
        }
      },
      "source": [
        "%%writefile test_module.py\n",
        "def add(x, y):\n",
        "  return x + y\n",
        "def substract(x, y):\n",
        "  return x - y\n",
        "def multiply(x, y):\n",
        "  return x * y\n",
        "def divide(x, y):\n",
        "  return x / y\n",
        "def power(x, y):\n",
        "  return x ** y\n",
        "if __name__ == \"__main__\":\n",
        "  print('-'*15)\n",
        "  print('called! the inner function!')\n",
        "  print(add(5,5))\n",
        "  print(substract(15,5))\n",
        "  print(multiply(5,5))\n",
        "  print(divide(10,2))\n",
        "  print(power(5,3))\n",
        "  print('-'*15)"
      ],
      "execution_count": 0,
      "outputs": [
        {
          "output_type": "stream",
          "text": [
            "Overwriting test_module.py\n"
          ],
          "name": "stdout"
        }
      ]
    },
    {
      "cell_type": "code",
      "metadata": {
        "id": "VbcJSnWTx_ae",
        "colab_type": "code",
        "colab": {}
      },
      "source": [
        "import test_module"
      ],
      "execution_count": 0,
      "outputs": []
    },
    {
      "cell_type": "markdown",
      "metadata": {
        "id": "UcVsHcDHyCaB",
        "colab_type": "text"
      },
      "source": [
        "위와같이 import 시켰을때, main이 실행이 안됨을 볼 수 있고, 이는 추후 이 함수에 대해서 궁금해 하는 독자들에게 샘플코드를 제시할 수 도 있다."
      ]
    },
    {
      "cell_type": "code",
      "metadata": {
        "id": "xSRJFJBMyjl4",
        "colab_type": "code",
        "outputId": "65259f47-f81e-4e86-ab47-6893fde5e9e3",
        "colab": {
          "base_uri": "https://localhost:8080/",
          "height": 34
        }
      },
      "source": [
        "print(test_module.add(10,5))"
      ],
      "execution_count": 0,
      "outputs": [
        {
          "output_type": "stream",
          "text": [
            "15\n"
          ],
          "name": "stdout"
        }
      ]
    },
    {
      "cell_type": "markdown",
      "metadata": {
        "id": "Q7j9rMWcynrK",
        "colab_type": "text"
      },
      "source": [
        "## *2. Package*"
      ]
    },
    {
      "cell_type": "markdown",
      "metadata": {
        "id": "NyDTaGcq5HdI",
        "colab_type": "text"
      },
      "source": [
        "#### 0) Preparation"
      ]
    },
    {
      "cell_type": "code",
      "metadata": {
        "id": "CqBIXS7WzM0Y",
        "colab_type": "code",
        "colab": {
          "base_uri": "https://localhost:8080/",
          "height": 34
        },
        "outputId": "15578eef-7923-4e68-cfce-800fecbb0a74"
      },
      "source": [
        "ls"
      ],
      "execution_count": 41,
      "outputs": [
        {
          "output_type": "stream",
          "text": [
            "__init__.py  \u001b[0m\u001b[01;34msub1\u001b[0m/  \u001b[01;34msub2\u001b[0m/\n"
          ],
          "name": "stdout"
        }
      ]
    },
    {
      "cell_type": "code",
      "metadata": {
        "id": "6HJs4fOa5aMe",
        "colab_type": "code",
        "colab": {}
      },
      "source": [
        "!mkdir sub\n",
        "!mkdir sub/sub1\n",
        "!mkdir sub/sub2"
      ],
      "execution_count": 0,
      "outputs": []
    },
    {
      "cell_type": "code",
      "metadata": {
        "id": "TvjZxssP5Yoo",
        "colab_type": "code",
        "colab": {
          "base_uri": "https://localhost:8080/",
          "height": 34
        },
        "outputId": "d82526ad-418b-4c52-e67d-2c97fc47f241"
      },
      "source": [
        "cd sub"
      ],
      "execution_count": 27,
      "outputs": [
        {
          "output_type": "stream",
          "text": [
            "/content/sub\n"
          ],
          "name": "stdout"
        }
      ]
    },
    {
      "cell_type": "code",
      "metadata": {
        "id": "QiYGh3Na5dqn",
        "colab_type": "code",
        "colab": {
          "base_uri": "https://localhost:8080/",
          "height": 34
        },
        "outputId": "e64ff6d6-238f-440c-d2d9-ed76e712cdcd"
      },
      "source": [
        "%%writefile __init__.py \n",
        " "
      ],
      "execution_count": 31,
      "outputs": [
        {
          "output_type": "stream",
          "text": [
            "Writing __init__.py\n"
          ],
          "name": "stdout"
        }
      ]
    },
    {
      "cell_type": "code",
      "metadata": {
        "id": "6WAEGw3Q6yvt",
        "colab_type": "code",
        "colab": {
          "base_uri": "https://localhost:8080/",
          "height": 34
        },
        "outputId": "c64c110b-c27f-4a03-dd0d-c58d738a0428"
      },
      "source": [
        "cd sub1"
      ],
      "execution_count": 43,
      "outputs": [
        {
          "output_type": "stream",
          "text": [
            "/content/sub/sub1\n"
          ],
          "name": "stdout"
        }
      ]
    },
    {
      "cell_type": "code",
      "metadata": {
        "id": "AnDuivs56OdI",
        "colab_type": "code",
        "colab": {
          "base_uri": "https://localhost:8080/",
          "height": 34
        },
        "outputId": "04d6d9e9-b9e3-4e85-ed7d-5de2c6cdf3d8"
      },
      "source": [
        "%%writefile __init__.py\n",
        "__all__ = ['module1']"
      ],
      "execution_count": 49,
      "outputs": [
        {
          "output_type": "stream",
          "text": [
            "Overwriting __init__.py\n"
          ],
          "name": "stdout"
        }
      ]
    },
    {
      "cell_type": "code",
      "metadata": {
        "id": "Ti9A0YLX6uiK",
        "colab_type": "code",
        "colab": {
          "base_uri": "https://localhost:8080/",
          "height": 34
        },
        "outputId": "deb5fba7-729e-4245-e0d5-e3da016e5e50"
      },
      "source": [
        "%%writefile module1.py\n",
        "import sys\n",
        "import inspect\n",
        "# from ..sub2 import module2\n",
        "\n",
        "# module2.py\n",
        "def mod1_test1():\n",
        "\tprint (\"Module1 -> Test1\")\n",
        "\tprint(\"Path : \", inspect.getfile(inspect.currentframe()))\n",
        "\n",
        "def mod1_test2():\n",
        "\tprint (\"Module1 -> Test2\")\n",
        "\tprint(\"Path : \", inspect.getfile(inspect.currentframe()))"
      ],
      "execution_count": 50,
      "outputs": [
        {
          "output_type": "stream",
          "text": [
            "Writing module1.py\n"
          ],
          "name": "stdout"
        }
      ]
    },
    {
      "cell_type": "code",
      "metadata": {
        "id": "zWOH2vqm6-wA",
        "colab_type": "code",
        "colab": {
          "base_uri": "https://localhost:8080/",
          "height": 34
        },
        "outputId": "84162203-48e1-45c2-f84a-1ef037c90120"
      },
      "source": [
        "cd ../sub2"
      ],
      "execution_count": 51,
      "outputs": [
        {
          "output_type": "stream",
          "text": [
            "/content/sub/sub2\n"
          ],
          "name": "stdout"
        }
      ]
    },
    {
      "cell_type": "code",
      "metadata": {
        "id": "G4OWYY6M7AQm",
        "colab_type": "code",
        "colab": {
          "base_uri": "https://localhost:8080/",
          "height": 34
        },
        "outputId": "974428f1-9158-4422-a0a7-40cd6e6d1ba3"
      },
      "source": [
        "%%writefile __init__.py\n",
        "__all__ = ['module2']"
      ],
      "execution_count": 47,
      "outputs": [
        {
          "output_type": "stream",
          "text": [
            "Writing __init__.py\n"
          ],
          "name": "stdout"
        }
      ]
    },
    {
      "cell_type": "code",
      "metadata": {
        "id": "jZnRBzCk7FAB",
        "colab_type": "code",
        "colab": {
          "base_uri": "https://localhost:8080/",
          "height": 34
        },
        "outputId": "958372c3-5e92-4554-b8e2-d1711e254d3a"
      },
      "source": [
        "%%writefile module2.py\n",
        "import sys\n",
        "import inspect\n",
        "# from ..sub1 import module1\n",
        "\n",
        "# module2.py\n",
        "def mod2_test1():\n",
        "\tprint (\"Module2 -> Test1\")\n",
        "\tprint(\"Path : \", inspect.getfile(inspect.currentframe()))\n",
        "\n",
        "def mod2_test2():\n",
        "\tprint (\"Module2 -> Test2\")\n",
        "\tprint(\"Path : \", inspect.getfile(inspect.currentframe()))"
      ],
      "execution_count": 52,
      "outputs": [
        {
          "output_type": "stream",
          "text": [
            "Writing module2.py\n"
          ],
          "name": "stdout"
        }
      ]
    },
    {
      "cell_type": "code",
      "metadata": {
        "id": "wJZcOpom7Tx7",
        "colab_type": "code",
        "colab": {
          "base_uri": "https://localhost:8080/",
          "height": 34
        },
        "outputId": "e6f3caec-b371-4b5b-e8b8-4be70cbf158a"
      },
      "source": [
        "cd ../../"
      ],
      "execution_count": 54,
      "outputs": [
        {
          "output_type": "stream",
          "text": [
            "/content\n"
          ],
          "name": "stdout"
        }
      ]
    },
    {
      "cell_type": "markdown",
      "metadata": {
        "id": "eH5sKDG67UlG",
        "colab_type": "text"
      },
      "source": [
        "### 1) Example 1"
      ]
    },
    {
      "cell_type": "markdown",
      "metadata": {
        "id": "YprT1buDE_3R",
        "colab_type": "text"
      },
      "source": [
        ""
      ]
    },
    {
      "cell_type": "code",
      "metadata": {
        "id": "zLGBgR937bsk",
        "colab_type": "code",
        "colab": {}
      },
      "source": [
        "import sub.sub1.module1 # sub패키지 하위의 sub1패키지의 module1이라는 모듈을 사용하겠다\n",
        "import sub.sub2.module2 # sub패키지 하위의 sub2패키지의 module2이라는 모듈을 사용하겠다"
      ],
      "execution_count": 0,
      "outputs": []
    },
    {
      "cell_type": "code",
      "metadata": {
        "id": "Gfum9Eqc7myl",
        "colab_type": "code",
        "colab": {
          "base_uri": "https://localhost:8080/",
          "height": 51
        },
        "outputId": "b5351a06-c03a-4d6e-f687-886f9f088edb"
      },
      "source": [
        "sub.sub1.module1.mod1_test1() # mod1_test1이라는 함수를 실행시키자."
      ],
      "execution_count": 60,
      "outputs": [
        {
          "output_type": "stream",
          "text": [
            "Module1 -> Test1\n",
            "Path :  /content/sub/sub1/module1.py\n"
          ],
          "name": "stdout"
        }
      ]
    },
    {
      "cell_type": "code",
      "metadata": {
        "id": "QZxdZ8aQ7pc6",
        "colab_type": "code",
        "colab": {
          "base_uri": "https://localhost:8080/",
          "height": 51
        },
        "outputId": "ad5452ca-342f-4d30-e644-fb2eb4cd8371"
      },
      "source": [
        "sub.sub1.module1.mod1_test2()"
      ],
      "execution_count": 61,
      "outputs": [
        {
          "output_type": "stream",
          "text": [
            "Module1 -> Test2\n",
            "Path :  /content/sub/sub1/module1.py\n"
          ],
          "name": "stdout"
        }
      ]
    },
    {
      "cell_type": "code",
      "metadata": {
        "id": "SqexEcCL7taj",
        "colab_type": "code",
        "colab": {
          "base_uri": "https://localhost:8080/",
          "height": 51
        },
        "outputId": "0cc8b31f-d079-4152-8e0b-3f6501eca67b"
      },
      "source": [
        "sub.sub2.module2.mod2_test1()"
      ],
      "execution_count": 63,
      "outputs": [
        {
          "output_type": "stream",
          "text": [
            "Module2 -> Test1\n",
            "Path :  /content/sub/sub2/module2.py\n"
          ],
          "name": "stdout"
        }
      ]
    },
    {
      "cell_type": "code",
      "metadata": {
        "id": "NdEAtsYa70-t",
        "colab_type": "code",
        "colab": {
          "base_uri": "https://localhost:8080/",
          "height": 51
        },
        "outputId": "541ba81b-2349-4dd5-a4a3-07e147e2796f"
      },
      "source": [
        "sub.sub2.module2.mod2_test1()"
      ],
      "execution_count": 64,
      "outputs": [
        {
          "output_type": "stream",
          "text": [
            "Module2 -> Test1\n",
            "Path :  /content/sub/sub2/module2.py\n"
          ],
          "name": "stdout"
        }
      ]
    },
    {
      "cell_type": "markdown",
      "metadata": {
        "id": "10vB6eF973xP",
        "colab_type": "text"
      },
      "source": [
        "### 2) Example 2"
      ]
    },
    {
      "cell_type": "markdown",
      "metadata": {
        "id": "Xg-zpvsXFqpI",
        "colab_type": "text"
      },
      "source": [
        "아래와 같이 호출할 수 도 있다."
      ]
    },
    {
      "cell_type": "code",
      "metadata": {
        "id": "bNVPdgxFFYvj",
        "colab_type": "code",
        "colab": {}
      },
      "source": [
        "from sub.sub1 import module1\n",
        "from sub.sub2 import module2 as m2"
      ],
      "execution_count": 0,
      "outputs": []
    },
    {
      "cell_type": "code",
      "metadata": {
        "id": "mgEjpQG0FpxG",
        "colab_type": "code",
        "colab": {
          "base_uri": "https://localhost:8080/",
          "height": 51
        },
        "outputId": "fdf6b27b-3417-48ce-f25b-6941a1e58154"
      },
      "source": [
        "module1.mod1_test1()"
      ],
      "execution_count": 67,
      "outputs": [
        {
          "output_type": "stream",
          "text": [
            "Module1 -> Test1\n",
            "Path :  /content/sub/sub1/module1.py\n"
          ],
          "name": "stdout"
        }
      ]
    },
    {
      "cell_type": "code",
      "metadata": {
        "id": "IUUKFgaUFvtD",
        "colab_type": "code",
        "colab": {
          "base_uri": "https://localhost:8080/",
          "height": 51
        },
        "outputId": "b95e31d4-5923-4f43-9df6-17cb9a5c2b5b"
      },
      "source": [
        "m2.mod2_test1()"
      ],
      "execution_count": 68,
      "outputs": [
        {
          "output_type": "stream",
          "text": [
            "Module2 -> Test1\n",
            "Path :  /content/sub/sub2/module2.py\n"
          ],
          "name": "stdout"
        }
      ]
    },
    {
      "cell_type": "markdown",
      "metadata": {
        "id": "Oe0YrQ2MF3V9",
        "colab_type": "text"
      },
      "source": [
        "### 3) Example 3"
      ]
    },
    {
      "cell_type": "markdown",
      "metadata": {
        "id": "9ho1FqvkGBIe",
        "colab_type": "text"
      },
      "source": [
        "전체를 import해주는 방법   \n",
        "sub1의 모든 모듈을 가져오기 때문에 성능에 큰 영향을 미치진 않지만, 메모리를 잡아먹는다. "
      ]
    },
    {
      "cell_type": "code",
      "metadata": {
        "id": "4dAem1orFxjp",
        "colab_type": "code",
        "colab": {}
      },
      "source": [
        "from sub.sub1 import *"
      ],
      "execution_count": 0,
      "outputs": []
    },
    {
      "cell_type": "code",
      "metadata": {
        "id": "IeEnAaJ1F74C",
        "colab_type": "code",
        "colab": {
          "base_uri": "https://localhost:8080/",
          "height": 51
        },
        "outputId": "cbe078e7-d661-4269-c507-89cae3f6443f"
      },
      "source": [
        "module1.mod1_test1()"
      ],
      "execution_count": 70,
      "outputs": [
        {
          "output_type": "stream",
          "text": [
            "Module1 -> Test1\n",
            "Path :  /content/sub/sub1/module1.py\n"
          ],
          "name": "stdout"
        }
      ]
    },
    {
      "cell_type": "markdown",
      "metadata": {
        "id": "mbiFrrM5GAHX",
        "colab_type": "text"
      },
      "source": [
        "### +) __init__.py"
      ]
    },
    {
      "cell_type": "markdown",
      "metadata": {
        "id": "qWVFL9mLGknn",
        "colab_type": "text"
      },
      "source": [
        "python 3.3 이전버전부터는 각 package에 \\_\\_init__.py file이 있어야만 호출이 가능했다. \\_\\_init__.py는 다음과 같이 쓴다.\n",
        "```python\n",
        "__all__ = [모듈이름] # ex) ['module1','module2']\n",
        "```"
      ]
    }
  ]
}