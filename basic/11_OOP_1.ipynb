{
  "nbformat": 4,
  "nbformat_minor": 0,
  "metadata": {
    "colab": {
      "name": "11_OOP_1.ipynb",
      "provenance": [],
      "collapsed_sections": [],
      "toc_visible": true,
      "authorship_tag": "ABX9TyMf8XRoOaN+T6yUrRaH3bRs",
      "include_colab_link": true
    },
    "kernelspec": {
      "name": "python3",
      "display_name": "Python 3"
    }
  },
  "cells": [
    {
      "cell_type": "markdown",
      "metadata": {
        "id": "view-in-github",
        "colab_type": "text"
      },
      "source": [
        "<a href=\"https://colab.research.google.com/github/gwangjinjeong/Python/blob/master/basic/11_OOP_1.ipynb\" target=\"_parent\"><img src=\"https://colab.research.google.com/assets/colab-badge.svg\" alt=\"Open In Colab\"/></a>"
      ]
    },
    {
      "cell_type": "markdown",
      "metadata": {
        "id": "ZcmKVfqdi1LL",
        "colab_type": "text"
      },
      "source": [
        "# 절차지향프로그래밍 vs 객체지향프로그래밍\n",
        "## Example 차량관리프로그램"
      ]
    },
    {
      "cell_type": "markdown",
      "metadata": {
        "id": "-1_oBa0jpa4H",
        "colab_type": "text"
      },
      "source": [
        "## 1.1 **Not** cool coding"
      ]
    },
    {
      "cell_type": "markdown",
      "metadata": {
        "id": "76wCsl-5BPhy",
        "colab_type": "text"
      },
      "source": [
        "### 1.1.1 normally"
      ]
    },
    {
      "cell_type": "code",
      "metadata": {
        "id": "CKBCnEzaih_P",
        "colab_type": "code",
        "colab": {}
      },
      "source": [
        "car_company_1 = 'Ferrari'\n",
        "car_detail_1 = [\n",
        "                {'color'      : 'White'},\n",
        "                {'horsepower' : 400 },\n",
        "                {'price'      : 8000}\n",
        "]"
      ],
      "execution_count": 0,
      "outputs": []
    },
    {
      "cell_type": "code",
      "metadata": {
        "id": "1xb4uCsopKIY",
        "colab_type": "code",
        "colab": {}
      },
      "source": [
        "car_company_2 = 'BMW'\n",
        "car_detail_2 = [\n",
        "                {'color'      : 'Black'},\n",
        "                {'horsepower' : 270 },\n",
        "                {'price'      : 5000}\n",
        "]"
      ],
      "execution_count": 0,
      "outputs": []
    },
    {
      "cell_type": "code",
      "metadata": {
        "id": "BaumwjMvpPZa",
        "colab_type": "code",
        "colab": {}
      },
      "source": [
        "car_company_3 = 'Audi'\n",
        "car_detail_3 = [\n",
        "                {'color'      : 'Silver'},\n",
        "                {'horsepower' : 300 },\n",
        "                {'price'      : 6000}\n",
        "]"
      ],
      "execution_count": 0,
      "outputs": []
    },
    {
      "cell_type": "markdown",
      "metadata": {
        "id": "MBTym1TVpgyt",
        "colab_type": "text"
      },
      "source": [
        "* 추가, 수정, 삭제가 불편하다"
      ]
    },
    {
      "cell_type": "markdown",
      "metadata": {
        "id": "bDn7fAalpWjN",
        "colab_type": "text"
      },
      "source": [
        "### 1.1.2 list "
      ]
    },
    {
      "cell_type": "code",
      "metadata": {
        "id": "teZs7xt6pf6k",
        "colab_type": "code",
        "colab": {}
      },
      "source": [
        "car_company_list = ['Ferrari','Bmw','Audi']\n",
        "car_detail_list = [\n",
        "    {'color' : 'White', 'horsepower' : 400 , 'price' : 8000},\n",
        "    {'color' : 'Black', 'horsepower' : 270 , 'price' : 5000},\n",
        "    {'color' : 'Silver', 'horsepower' : 300 , 'price' : 6000}\n",
        "]"
      ],
      "execution_count": 0,
      "outputs": []
    },
    {
      "cell_type": "markdown",
      "metadata": {
        "id": "1XLuJTPmqI4x",
        "colab_type": "text"
      },
      "source": [
        "* 인덱스 접근 시 실수 가능성이 존재, 삭제가 불편하다.\n",
        "* 단, 다른 함수를 통해서 데이터를  Wrapping하여 다룰수도 있다."
      ]
    },
    {
      "cell_type": "markdown",
      "metadata": {
        "id": "WhsXWmrorBI3",
        "colab_type": "text"
      },
      "source": [
        "### 1.1.3 Dictionary\n",
        "* 코드 반복 지속,\n",
        "* 중첩 문제(키)\n",
        "* 키 조회 예외 처리 등\n",
        "* **매우** 중요한 자료구조"
      ]
    },
    {
      "cell_type": "code",
      "metadata": {
        "id": "6CKdmIlnqRck",
        "colab_type": "code",
        "colab": {}
      },
      "source": [
        "car_dicts = [\n",
        "  {'car_company': 'Ferrari', \n",
        "   'car_detail': {'color' : 'White', 'horsepower' : 400 , 'price' : 8000}},\n",
        "  {'car_company': 'Bmw', \n",
        "   'car_detail': {'color' : 'Black', 'horsepower' : 270 , 'price' : 5000}},\n",
        "  {'car_company': 'Audi', \n",
        "   'car_detail': {'color' : 'Silver', 'horsepower' : 300 , 'price' : 6000}}\n",
        "]"
      ],
      "execution_count": 0,
      "outputs": []
    },
    {
      "cell_type": "code",
      "metadata": {
        "id": "cMKPQP9Oru6i",
        "colab_type": "code",
        "outputId": "eb955969-a1b8-42f5-9da8-7cf960502087",
        "colab": {
          "base_uri": "https://localhost:8080/",
          "height": 55
        }
      },
      "source": [
        "print(car_dicts)"
      ],
      "execution_count": 0,
      "outputs": [
        {
          "output_type": "stream",
          "text": [
            "[{'car_company': 'Ferrari', 'car_detail': {'color': 'White', 'horsepower': 400, 'price': 8000}}, {'car_company': 'Bmw', 'car_detail': {'color': 'Black', 'horsepower': 270, 'price': 5000}}, {'car_company': 'Audi', 'car_detail': {'color': 'Silver', 'horsepower': 300, 'price': 6000}}]\n"
          ],
          "name": "stdout"
        }
      ]
    },
    {
      "cell_type": "code",
      "metadata": {
        "id": "-s_JRFHPr040",
        "colab_type": "code",
        "colab": {}
      },
      "source": [
        "del car_dicts[1]"
      ],
      "execution_count": 0,
      "outputs": []
    },
    {
      "cell_type": "code",
      "metadata": {
        "id": "6QUUyt9Tr2Qo",
        "colab_type": "code",
        "outputId": "f85cc6e2-4212-41a6-c2de-a6bb97b2f5d6",
        "colab": {
          "base_uri": "https://localhost:8080/",
          "height": 55
        }
      },
      "source": [
        "print(car_dicts)"
      ],
      "execution_count": 0,
      "outputs": [
        {
          "output_type": "stream",
          "text": [
            "[{'car_company': 'Ferrari', 'car_detail': {'color': 'White', 'horsepower': 400, 'price': 8000}}, {'car_company': 'Audi', 'car_detail': {'color': 'Silver', 'horsepower': 300, 'price': 6000}}]\n"
          ],
          "name": "stdout"
        }
      ]
    },
    {
      "cell_type": "markdown",
      "metadata": {
        "id": "egQ7eO8rr6Ol",
        "colab_type": "text"
      },
      "source": [
        "## 1.2 Cool coding\n",
        "### Class "
      ]
    },
    {
      "cell_type": "markdown",
      "metadata": {
        "id": "KKNmQR3csA-Y",
        "colab_type": "text"
      },
      "source": [
        "* 구조 설계 후 재사용성 증가\n",
        "* 코드 반복 최소화\n",
        "* 메소드 활용"
      ]
    },
    {
      "cell_type": "markdown",
      "metadata": {
        "id": "vi2rWeRVBoCa",
        "colab_type": "text"
      },
      "source": [
        ""
      ]
    },
    {
      "cell_type": "markdown",
      "metadata": {
        "id": "gkSdJoHJ1Ww1",
        "colab_type": "text"
      },
      "source": [
        "### 1.4.1 **\\_\\_init__**\n",
        "인스턴스가 선언될때, 실행이 되는부분."
      ]
    },
    {
      "cell_type": "code",
      "metadata": {
        "id": "SzKvo5m1r3Sg",
        "colab_type": "code",
        "colab": {}
      },
      "source": [
        "class Car():\n",
        "  def __init__(self, company, details):\n",
        "    self._company = company\n",
        "    self._details = details"
      ],
      "execution_count": 0,
      "outputs": []
    },
    {
      "cell_type": "code",
      "metadata": {
        "id": "TM2KwDLesVEk",
        "colab_type": "code",
        "colab": {}
      },
      "source": [
        "car1 = Car('Ferrari', {'color' : 'White', 'horsepower' : 400 , 'price' : 8000})"
      ],
      "execution_count": 0,
      "outputs": []
    },
    {
      "cell_type": "code",
      "metadata": {
        "id": "KqJWMXMXstxl",
        "colab_type": "code",
        "outputId": "d3a810c9-8fb7-4803-9701-7601d05eb275",
        "colab": {
          "base_uri": "https://localhost:8080/",
          "height": 35
        }
      },
      "source": [
        "print(car1)"
      ],
      "execution_count": 21,
      "outputs": [
        {
          "output_type": "stream",
          "text": [
            "<__main__.Car object at 0x7f1949e62780>\n"
          ],
          "name": "stdout"
        }
      ]
    },
    {
      "cell_type": "markdown",
      "metadata": {
        "id": "ajtRgAnJ1Pjc",
        "colab_type": "text"
      },
      "source": [
        "### 1.4.2 \\_\\_str__\n",
        "인스턴스 내부 객체를 출력하고 싶을때.   \n",
        "=> 사용자 level에서 print문과 같이 정보출력를 원할때,"
      ]
    },
    {
      "cell_type": "code",
      "metadata": {
        "id": "FWfxhZnyszPH",
        "colab_type": "code",
        "colab": {}
      },
      "source": [
        "class Car():\n",
        "  def __init__(self, company, details):\n",
        "    self._company = company\n",
        "    self._details = details\n",
        "  def __str__(self): \n",
        "    return 'str : {} - {}'.format(self._company, self._details)"
      ],
      "execution_count": 0,
      "outputs": []
    },
    {
      "cell_type": "code",
      "metadata": {
        "id": "3l1ivKLBs3PW",
        "colab_type": "code",
        "colab": {}
      },
      "source": [
        "car1 = Car('Ferrari', {'color' : 'White', 'horsepower' : 400 , 'price' : 8000})"
      ],
      "execution_count": 0,
      "outputs": []
    },
    {
      "cell_type": "code",
      "metadata": {
        "id": "gXYNd_U9s1uU",
        "colab_type": "code",
        "outputId": "b52d5be1-d48d-4ef3-a05b-6a81e005b57c",
        "colab": {
          "base_uri": "https://localhost:8080/",
          "height": 35
        }
      },
      "source": [
        "print(car1)"
      ],
      "execution_count": 0,
      "outputs": [
        {
          "output_type": "stream",
          "text": [
            "str : Ferrari - {'color': 'White', 'horsepower': 400, 'price': 8000}\n"
          ],
          "name": "stdout"
        }
      ]
    },
    {
      "cell_type": "markdown",
      "metadata": {
        "id": "Vq6d6067s16b",
        "colab_type": "text"
      },
      "source": [
        "### 1.4.3 \\_\\_repr__\n",
        "클래스 인스턴스 내부의 출력이 가능하다.   \n",
        "=> Engineer level에서 print문 뿐만아니라 객체를 공식적으로 표현하고자 할때"
      ]
    },
    {
      "cell_type": "code",
      "metadata": {
        "id": "7xyjO9ZZ2LVI",
        "colab_type": "code",
        "colab": {}
      },
      "source": [
        "class Car():\n",
        "  def __init__(self, company, details):\n",
        "    self._company = company\n",
        "    self._details = details\n",
        "  def __str__(self): \n",
        "    return 'str : {} - {}'.format(self._company, self._details)\n",
        "  def __repr__(self): # print문 뿐만 아니라 객체를 공식적으로 표현하고자 할때\n",
        "    return 'repr : {} - {}'.format(self._company, self._details)"
      ],
      "execution_count": 0,
      "outputs": []
    },
    {
      "cell_type": "code",
      "metadata": {
        "colab_type": "code",
        "id": "QBrtZOgJ2QjU",
        "colab": {}
      },
      "source": [
        "car1 = Car('Ferrari', {'color' : 'White', 'horsepower' : 400 , 'price' : 8000})"
      ],
      "execution_count": 0,
      "outputs": []
    },
    {
      "cell_type": "code",
      "metadata": {
        "colab_type": "code",
        "outputId": "7358952c-7caf-48c7-a922-ee09e7f94649",
        "id": "vij91VhV2Qjb",
        "colab": {
          "base_uri": "https://localhost:8080/",
          "height": 35
        }
      },
      "source": [
        "print(car1)"
      ],
      "execution_count": 0,
      "outputs": [
        {
          "output_type": "stream",
          "text": [
            "repr : Ferrari - {'color': 'White', 'horsepower': 400, 'price': 8000}\n"
          ],
          "name": "stdout"
        }
      ]
    },
    {
      "cell_type": "markdown",
      "metadata": {
        "id": "2QWeNLr-rKUq",
        "colab_type": "text"
      },
      "source": [
        "`__dict__`: 인스턴스가 가진 실제 값를 보여줘"
      ]
    },
    {
      "cell_type": "code",
      "metadata": {
        "id": "7jjpZtZJ2Ro1",
        "colab_type": "code",
        "outputId": "576bafa1-b281-4606-d313-f5fb2ce6d414",
        "colab": {
          "base_uri": "https://localhost:8080/",
          "height": 35
        }
      },
      "source": [
        "print(car1.__dict__)"
      ],
      "execution_count": 0,
      "outputs": [
        {
          "output_type": "stream",
          "text": [
            "{'_company': 'Ferrari', '_details': {'color': 'White', 'horsepower': 400, 'price': 8000}}\n"
          ],
          "name": "stdout"
        }
      ]
    },
    {
      "cell_type": "markdown",
      "metadata": {
        "id": "YSK1dODOq54p",
        "colab_type": "text"
      },
      "source": [
        "`dir()` : 인스턴스가 가지고있는 **모든** 메소드를 보여달라.   \n",
        "출력 후 맨 끝에 보면 _company와 _details가 있는것을 볼 수 있다. "
      ]
    },
    {
      "cell_type": "code",
      "metadata": {
        "id": "IK0XttuE2lsC",
        "colab_type": "code",
        "colab": {
          "base_uri": "https://localhost:8080/",
          "height": 55
        },
        "outputId": "33c81e8d-72d4-4ae0-afd2-0deb1d0e175a"
      },
      "source": [
        "print(dir(car1))"
      ],
      "execution_count": 6,
      "outputs": [
        {
          "output_type": "stream",
          "text": [
            "['__class__', '__delattr__', '__dict__', '__dir__', '__doc__', '__eq__', '__format__', '__ge__', '__getattribute__', '__gt__', '__hash__', '__init__', '__init_subclass__', '__le__', '__lt__', '__module__', '__ne__', '__new__', '__reduce__', '__reduce_ex__', '__repr__', '__setattr__', '__sizeof__', '__str__', '__subclasshook__', '__weakref__', '_company', '_details']\n"
          ],
          "name": "stdout"
        }
      ]
    },
    {
      "cell_type": "markdown",
      "metadata": {
        "id": "t909oTgN2rCs",
        "colab_type": "text"
      },
      "source": [
        "위에 표현된 모든 것을 Class에 정의가 가능하다."
      ]
    },
    {
      "cell_type": "markdown",
      "metadata": {
        "id": "7zln7R0g2qV3",
        "colab_type": "text"
      },
      "source": [
        "### 1.4.4 \\_\\_doc__, id() "
      ]
    },
    {
      "cell_type": "code",
      "metadata": {
        "id": "1VA7PeJUqVWa",
        "colab_type": "code",
        "colab": {}
      },
      "source": [
        "class Car():\n",
        "  \"\"\"\n",
        "  Car class\n",
        "  Author : Gwangjinjeong\n",
        "  Date : 20.03.13\n",
        "  \"\"\"\n",
        "  def __init__(self, company, details):\n",
        "    self._company = company\n",
        "    self._details = details\n",
        "  def __str__(self): \n",
        "    return 'str : {} - {}'.format(self._company, self._details)\n",
        "  def __repr__(self): # print문 뿐만 아니라 객체를 공식적으로 표현하고자 할때\n",
        "    return 'repr : {} - {}'.format(self._company, self._details)"
      ],
      "execution_count": 0,
      "outputs": []
    },
    {
      "cell_type": "code",
      "metadata": {
        "id": "Wej-Qn6q3JQ6",
        "colab_type": "code",
        "colab": {}
      },
      "source": [
        "car1 = Car('Ferrari', {'color' : 'White', 'horsepower' : 400 , 'price' : 8000})\n",
        "car2 = Car('Bmw', {'color' : 'Black', 'horsepower' : 270 , 'price' : 5000})\n",
        "car3 = Car('Audi', {'color' : 'Silver', 'horsepower' : 300 , 'price' : 6000})"
      ],
      "execution_count": 0,
      "outputs": []
    },
    {
      "cell_type": "markdown",
      "metadata": {
        "id": "pXX_5VYer1Qf",
        "colab_type": "text"
      },
      "source": [
        "일반적으로 주석처리된 부분에 누가,언제, 뭘 만들었는지 작성한다.   \n",
        "이를 보기위해서는 `__doc__`를 쓴다."
      ]
    },
    {
      "cell_type": "code",
      "metadata": {
        "id": "eDv4G6jvrlC9",
        "colab_type": "code",
        "colab": {
          "base_uri": "https://localhost:8080/",
          "height": 105
        },
        "outputId": "14245cfa-816c-41d7-f16c-614bfb7d0e28"
      },
      "source": [
        "print(car1.__doc__)"
      ],
      "execution_count": 14,
      "outputs": [
        {
          "output_type": "stream",
          "text": [
            "\n",
            "  Car class\n",
            "  Author : Gwangjinjeong\n",
            "  Date : 20.03.13\n",
            "  \n"
          ],
          "name": "stdout"
        }
      ]
    },
    {
      "cell_type": "code",
      "metadata": {
        "id": "2D9DI8eMqNc4",
        "colab_type": "code",
        "colab": {
          "base_uri": "https://localhost:8080/",
          "height": 70
        },
        "outputId": "5fc8b9d4-48a2-4717-ee6e-d3db3dfb57be"
      },
      "source": [
        "print(id(car1))\n",
        "print(id(car2))\n",
        "print(id(car3))"
      ],
      "execution_count": 5,
      "outputs": [
        {
          "output_type": "stream",
          "text": [
            "139746591498984\n",
            "139746591499096\n",
            "139746591499152\n"
          ],
          "name": "stdout"
        }
      ]
    },
    {
      "cell_type": "markdown",
      "metadata": {
        "id": "uQl9FyhiqXPA",
        "colab_type": "text"
      },
      "source": [
        "일종의 Class는 `거푸집`이라고 보면되고, car1-3인 인스턴스는 `청동검`으로 보면된다. 그렇게 때문에 각 자신의 주소에 지정된다. "
      ]
    },
    {
      "cell_type": "markdown",
      "metadata": {
        "id": "0D0ci9fqsLR9",
        "colab_type": "text"
      },
      "source": [
        "그래서 실제로 인스턴스의 class에 대한 id값을 비교해보면 같다.   \n",
        "호출하는법은 `__class__`와 같다."
      ]
    },
    {
      "cell_type": "code",
      "metadata": {
        "id": "tJUjJ24rsWww",
        "colab_type": "code",
        "colab": {
          "base_uri": "https://localhost:8080/",
          "height": 70
        },
        "outputId": "d416b022-51c8-46e1-ac4d-cd7d30a4d49f"
      },
      "source": [
        "print(id(car1.__class__))\n",
        "print(id(car2.__class__))\n",
        "print(id(car3.__class__))"
      ],
      "execution_count": 17,
      "outputs": [
        {
          "output_type": "stream",
          "text": [
            "49968792\n",
            "49968792\n",
            "49968792\n"
          ],
          "name": "stdout"
        }
      ]
    },
    {
      "cell_type": "code",
      "metadata": {
        "id": "4AnQheum3Sba",
        "colab_type": "code",
        "colab": {}
      },
      "source": [
        "car_list = []\n",
        "car_list.append(car1)\n",
        "car_list.append(car2)\n",
        "car_list.append(car3)"
      ],
      "execution_count": 0,
      "outputs": []
    },
    {
      "cell_type": "markdown",
      "metadata": {
        "id": "3BWsu7ey3cbf",
        "colab_type": "text"
      },
      "source": [
        "`객체`가 담기기 때문에 repr이 들어간걸 볼 수 있다."
      ]
    },
    {
      "cell_type": "code",
      "metadata": {
        "id": "vziuoaL43ZhE",
        "colab_type": "code",
        "outputId": "4aa36a3f-005e-4c55-b9f2-fea4e50ef1fe",
        "colab": {
          "base_uri": "https://localhost:8080/",
          "height": 55
        }
      },
      "source": [
        "print(car_list)"
      ],
      "execution_count": 0,
      "outputs": [
        {
          "output_type": "stream",
          "text": [
            "[repr : Ferrari - {'color': 'White', 'horsepower': 400, 'price': 8000}, repr : Bmw - {'color': 'Black', 'horsepower': 270, 'price': 5000}, repr : Audi - {'color': 'Silver', 'horsepower': 300, 'price': 6000}]\n"
          ],
          "name": "stdout"
        }
      ]
    },
    {
      "cell_type": "markdown",
      "metadata": {
        "id": "yBAwMJEC3hic",
        "colab_type": "text"
      },
      "source": [
        "사용자 입장에서 출력을 원하는것이기에 str이 실행된다."
      ]
    },
    {
      "cell_type": "code",
      "metadata": {
        "id": "LF0FFvy63CNk",
        "colab_type": "code",
        "outputId": "389921ae-055c-4ada-e8df-635699383ac6",
        "colab": {
          "base_uri": "https://localhost:8080/",
          "height": 70
        }
      },
      "source": [
        "for x in car_list:\n",
        "  print(x)"
      ],
      "execution_count": 0,
      "outputs": [
        {
          "output_type": "stream",
          "text": [
            "str : Ferrari - {'color': 'White', 'horsepower': 400, 'price': 8000}\n",
            "str : Bmw - {'color': 'Black', 'horsepower': 270, 'price': 5000}\n",
            "str : Audi - {'color': 'Silver', 'horsepower': 300, 'price': 6000}\n"
          ],
          "name": "stdout"
        }
      ]
    }
  ]
}