{
  "nbformat": 4,
  "nbformat_minor": 0,
  "metadata": {
    "colab": {
      "name": "06_Class.ipynb",
      "provenance": [],
      "toc_visible": true,
      "authorship_tag": "ABX9TyOD+uJPBVMbg7RFf9YMeAdv",
      "include_colab_link": true
    },
    "kernelspec": {
      "name": "python3",
      "display_name": "Python 3"
    }
  },
  "cells": [
    {
      "cell_type": "markdown",
      "metadata": {
        "id": "view-in-github",
        "colab_type": "text"
      },
      "source": [
        "<a href=\"https://colab.research.google.com/github/gwangjinjeong/Python/blob/master/basic/06_Class.ipynb\" target=\"_parent\"><img src=\"https://colab.research.google.com/assets/colab-badge.svg\" alt=\"Open In Colab\"/></a>"
      ]
    },
    {
      "cell_type": "markdown",
      "metadata": {
        "id": "Dm25tFvgKHgh",
        "colab_type": "text"
      },
      "source": [
        "# Chapter 6. Class"
      ]
    },
    {
      "cell_type": "markdown",
      "metadata": {
        "id": "0GHTRPWwKRP0",
        "colab_type": "text"
      },
      "source": [
        "## 6.1 Example 01 \n",
        "Dog Class "
      ]
    },
    {
      "cell_type": "code",
      "metadata": {
        "id": "zfdEfY49Lplj",
        "colab_type": "code",
        "colab": {}
      },
      "source": [
        "class Dog(object): #obejct 상속\n",
        "  # 클래스 속성\n",
        "  species = 'firstdog'\n",
        "\n",
        "  # 초기화/인스턴스 속성\n",
        "  def __init__(self, name, age):\n",
        "    self.name = name\n",
        "    self.age = age"
      ],
      "execution_count": 0,
      "outputs": []
    },
    {
      "cell_type": "code",
      "metadata": {
        "id": "cC9QDqYrPyVj",
        "colab_type": "code",
        "outputId": "0618f6af-a1d8-49b7-cdd0-73c5d27debf8",
        "colab": {
          "base_uri": "https://localhost:8080/",
          "height": 34
        }
      },
      "source": [
        "print(Dog)"
      ],
      "execution_count": 0,
      "outputs": [
        {
          "output_type": "stream",
          "text": [
            "<class '__main__.Dog'>\n"
          ],
          "name": "stdout"
        }
      ]
    },
    {
      "cell_type": "code",
      "metadata": {
        "id": "89N9qKStLyLv",
        "colab_type": "code",
        "colab": {}
      },
      "source": [
        "a = Dog('choco',2)\n",
        "b = Dog('coco',3)\n",
        "c = Dog('choco',2)"
      ],
      "execution_count": 0,
      "outputs": []
    },
    {
      "cell_type": "code",
      "metadata": {
        "id": "tzfBiaMfPrWm",
        "colab_type": "code",
        "outputId": "5af6d838-536b-4298-a6be-0c42c819d8f6",
        "colab": {
          "base_uri": "https://localhost:8080/",
          "height": 68
        }
      },
      "source": [
        "print(a==c)\n",
        "print(id(a))\n",
        "print(id(c))"
      ],
      "execution_count": 0,
      "outputs": [
        {
          "output_type": "stream",
          "text": [
            "False\n",
            "140215990964520\n",
            "140216000896696\n"
          ],
          "name": "stdout"
        }
      ]
    },
    {
      "cell_type": "markdown",
      "metadata": {
        "id": "5b4lXGImP9NG",
        "colab_type": "text"
      },
      "source": [
        "위와 같이 설령 값이 같더라도 a와 c는 다르게 표현한다."
      ]
    },
    {
      "cell_type": "markdown",
      "metadata": {
        "id": "53ePtV_6QPXa",
        "colab_type": "text"
      },
      "source": [
        "## 6.2 클래스 변수 vs 인스턴스 변수\n",
        "클래스 변수 : 직접 접근이 가능한다. (ex.`species`)  \n",
        "인스턴스 변수 : 객체마다 별도로 존재한다. (ex.`a`,`b`,`c`)"
      ]
    },
    {
      "cell_type": "markdown",
      "metadata": {
        "id": "M5r19J0gRNQ1",
        "colab_type": "text"
      },
      "source": [
        "클래스 변수"
      ]
    },
    {
      "cell_type": "code",
      "metadata": {
        "id": "ORqegZ4mRNEU",
        "colab_type": "code",
        "outputId": "13b85170-6695-4d96-af3c-5d4e2161aae7",
        "colab": {
          "base_uri": "https://localhost:8080/",
          "height": 34
        }
      },
      "source": [
        "print(Dog.species)"
      ],
      "execution_count": 0,
      "outputs": [
        {
          "output_type": "stream",
          "text": [
            "firstdog\n"
          ],
          "name": "stdout"
        }
      ]
    },
    {
      "cell_type": "code",
      "metadata": {
        "id": "QMGRj_yDRWNq",
        "colab_type": "code",
        "outputId": "e21969b4-3145-4231-b877-13216a5e0324",
        "colab": {
          "base_uri": "https://localhost:8080/",
          "height": 34
        }
      },
      "source": [
        "print(a.species,\n",
        "      b.species)"
      ],
      "execution_count": 0,
      "outputs": [
        {
          "output_type": "stream",
          "text": [
            "firstdog firstdog\n"
          ],
          "name": "stdout"
        }
      ]
    },
    {
      "cell_type": "markdown",
      "metadata": {
        "id": "8qciWxvbQ031",
        "colab_type": "text"
      },
      "source": [
        "인스턴스 변수"
      ]
    },
    {
      "cell_type": "code",
      "metadata": {
        "id": "aRxpl804QmKH",
        "colab_type": "code",
        "outputId": "a6754f9d-2482-4845-c6b5-8d2b89283a85",
        "colab": {
          "base_uri": "https://localhost:8080/",
          "height": 34
        }
      },
      "source": [
        "print(f'{a.name}\\'s age is {a.age} and {b.name}\\'s age is {b.age}')"
      ],
      "execution_count": 0,
      "outputs": [
        {
          "output_type": "stream",
          "text": [
            "choco's age is 2 and coco's age is 3\n"
          ],
          "name": "stdout"
        }
      ]
    },
    {
      "cell_type": "markdown",
      "metadata": {
        "id": "pe89Zcp7Q_IV",
        "colab_type": "text"
      },
      "source": [
        "## 6.3 Example 02\n",
        "Self는 인스턴스를 요구한다.   \n",
        "클래스 내부에 Self가 없다. ==> **클래스변수**다.   "
      ]
    },
    {
      "cell_type": "code",
      "metadata": {
        "id": "a4sHHC1zRj6N",
        "colab_type": "code",
        "colab": {}
      },
      "source": [
        "class SelfTest:\n",
        "  def func1():\n",
        "    print('Called the func1')\n",
        "  def func2(self):\n",
        "    print('Called the func2')"
      ],
      "execution_count": 0,
      "outputs": []
    },
    {
      "cell_type": "code",
      "metadata": {
        "id": "Ip67iOkwRkHE",
        "colab_type": "code",
        "outputId": "37d699f9-e63f-4931-dda3-eb1731b72e99",
        "colab": {
          "base_uri": "https://localhost:8080/",
          "height": 71
        }
      },
      "source": [
        "f = SelfTest()\n",
        "print(f)\n",
        "print(dir(f))"
      ],
      "execution_count": 0,
      "outputs": [
        {
          "output_type": "stream",
          "text": [
            "<__main__.SelfTest object at 0x7f86945af518>\n",
            "['__class__', '__delattr__', '__dict__', '__dir__', '__doc__', '__eq__', '__format__', '__ge__', '__getattribute__', '__gt__', '__hash__', '__init__', '__init_subclass__', '__le__', '__lt__', '__module__', '__ne__', '__new__', '__reduce__', '__reduce_ex__', '__repr__', '__setattr__', '__sizeof__', '__str__', '__subclasshook__', '__weakref__', 'func1', 'func2']\n"
          ],
          "name": "stdout"
        }
      ]
    },
    {
      "cell_type": "code",
      "metadata": {
        "id": "isAnLuMgSJSY",
        "colab_type": "code",
        "outputId": "f81c0bea-a2ad-485d-9e35-c4586098037c",
        "colab": {
          "base_uri": "https://localhost:8080/",
          "height": 184
        }
      },
      "source": [
        "f.func1() # 왜 에러가 날까요?"
      ],
      "execution_count": 0,
      "outputs": [
        {
          "output_type": "error",
          "ename": "TypeError",
          "evalue": "ignored",
          "traceback": [
            "\u001b[0;31m---------------------------------------------------------------------------\u001b[0m",
            "\u001b[0;31mTypeError\u001b[0m                                 Traceback (most recent call last)",
            "\u001b[0;32m<ipython-input-20-d7d514da12af>\u001b[0m in \u001b[0;36m<module>\u001b[0;34m()\u001b[0m\n\u001b[0;32m----> 1\u001b[0;31m \u001b[0mf\u001b[0m\u001b[0;34m.\u001b[0m\u001b[0mfunc1\u001b[0m\u001b[0;34m(\u001b[0m\u001b[0;34m)\u001b[0m\u001b[0;34m\u001b[0m\u001b[0;34m\u001b[0m\u001b[0m\n\u001b[0m",
            "\u001b[0;31mTypeError\u001b[0m: func1() takes 0 positional arguments but 1 was given"
          ]
        }
      ]
    },
    {
      "cell_type": "code",
      "metadata": {
        "id": "17z36d5iSNWT",
        "colab_type": "code",
        "outputId": "8c103954-6354-468e-b1bf-a6503788df6d",
        "colab": {
          "base_uri": "https://localhost:8080/",
          "height": 34
        }
      },
      "source": [
        "f.func2() #func2의 경우에는 에러가 안난다."
      ],
      "execution_count": 0,
      "outputs": [
        {
          "output_type": "stream",
          "text": [
            "Called the func2\n"
          ],
          "name": "stdout"
        }
      ]
    },
    {
      "cell_type": "code",
      "metadata": {
        "id": "aqbYhwcKSVqo",
        "colab_type": "code",
        "outputId": "e64cabdb-166d-4cbb-eb16-daee1483caf4",
        "colab": {
          "base_uri": "https://localhost:8080/",
          "height": 34
        }
      },
      "source": [
        "SelfTest.func1() # func1는 클래스 변수이기 때문에 이와 같이 호출해야한다."
      ],
      "execution_count": 0,
      "outputs": [
        {
          "output_type": "stream",
          "text": [
            "Called the func1\n"
          ],
          "name": "stdout"
        }
      ]
    },
    {
      "cell_type": "code",
      "metadata": {
        "id": "GF5MpRL4Sq_c",
        "colab_type": "code",
        "outputId": "5293be20-d36d-49d9-931e-26c38be21815",
        "colab": {
          "base_uri": "https://localhost:8080/",
          "height": 184
        }
      },
      "source": [
        "SelfTest.func2() # func2는 인스턴스 변수이기 때문에 클래스 변수처럼 호출하면, 에러가 난다."
      ],
      "execution_count": 0,
      "outputs": [
        {
          "output_type": "error",
          "ename": "TypeError",
          "evalue": "ignored",
          "traceback": [
            "\u001b[0;31m---------------------------------------------------------------------------\u001b[0m",
            "\u001b[0;31mTypeError\u001b[0m                                 Traceback (most recent call last)",
            "\u001b[0;32m<ipython-input-24-ab40460b3cb4>\u001b[0m in \u001b[0;36m<module>\u001b[0;34m()\u001b[0m\n\u001b[0;32m----> 1\u001b[0;31m \u001b[0mSelfTest\u001b[0m\u001b[0;34m.\u001b[0m\u001b[0mfunc2\u001b[0m\u001b[0;34m(\u001b[0m\u001b[0;34m)\u001b[0m \u001b[0;31m# func2는 인스턴스 변수이기 때문에 에러가 난다.\u001b[0m\u001b[0;34m\u001b[0m\u001b[0;34m\u001b[0m\u001b[0m\n\u001b[0m",
            "\u001b[0;31mTypeError\u001b[0m: func2() missing 1 required positional argument: 'self'"
          ]
        }
      ]
    },
    {
      "cell_type": "markdown",
      "metadata": {
        "id": "Qk_hZAvgSzT8",
        "colab_type": "text"
      },
      "source": [
        "## 6.4 Example 03 \n",
        "Warehouse"
      ]
    },
    {
      "cell_type": "code",
      "metadata": {
        "id": "sQ1YTcT-TeBm",
        "colab_type": "code",
        "colab": {}
      },
      "source": [
        "class Warehouse:\n",
        "  stock_num = 0 # 재고\n",
        "  temp = list()\n",
        "  def __init__(self, name):\n",
        "    # 인스턴스 변수\n",
        "    self.name = name\n",
        "    Warehouse.stock_num += 1\n",
        "\n",
        "  def __del__(self):\n",
        "    #객체가 소멸될때 자동으로 소멸\n",
        "    Warehouse.stock_num -= 1"
      ],
      "execution_count": 0,
      "outputs": []
    },
    {
      "cell_type": "code",
      "metadata": {
        "id": "k6aNXpsmT5jC",
        "colab_type": "code",
        "colab": {}
      },
      "source": [
        "user1 = Warehouse('Lee')"
      ],
      "execution_count": 0,
      "outputs": []
    },
    {
      "cell_type": "code",
      "metadata": {
        "id": "tLNO-qjTgJO9",
        "colab_type": "code",
        "outputId": "c4a2ad53-e1ba-422c-82a4-a3bd1ab676f2",
        "colab": {
          "base_uri": "https://localhost:8080/",
          "height": 34
        }
      },
      "source": [
        "print(Warehouse.stock_num) # user가 2번 호출되었기에 2가 되었다."
      ],
      "execution_count": 0,
      "outputs": [
        {
          "output_type": "stream",
          "text": [
            "1\n"
          ],
          "name": "stdout"
        }
      ]
    },
    {
      "cell_type": "code",
      "metadata": {
        "id": "pfu87RMDT_G6",
        "colab_type": "code",
        "colab": {}
      },
      "source": [
        "user2 = Warehouse('Jo')"
      ],
      "execution_count": 0,
      "outputs": []
    },
    {
      "cell_type": "code",
      "metadata": {
        "id": "L1kzd06NUD1_",
        "colab_type": "code",
        "outputId": "8f996b33-4b0a-417d-e48f-f8e630ac8ce6",
        "colab": {
          "base_uri": "https://localhost:8080/",
          "height": 34
        }
      },
      "source": [
        "print(Warehouse.stock_num) # user가 2번 호출되었기에 2가 되었다."
      ],
      "execution_count": 0,
      "outputs": [
        {
          "output_type": "stream",
          "text": [
            "2\n"
          ],
          "name": "stdout"
        }
      ]
    },
    {
      "cell_type": "code",
      "metadata": {
        "id": "6kJP1HHJUHSI",
        "colab_type": "code",
        "outputId": "622e5a5b-f143-497d-eb85-14e72053adf1",
        "colab": {
          "base_uri": "https://localhost:8080/",
          "height": 122
        }
      },
      "source": [
        "print(user1.name)\n",
        "print(user2.name)\n",
        "print(user1.__dict__)\n",
        "print(Warehouse.__dict__)\n",
        "print(user1.stock_num) #자기 인스턴스에 네임스페이스에 없으면 알아서 클래스 변수쪽에서 찾는다."
      ],
      "execution_count": 0,
      "outputs": [
        {
          "output_type": "stream",
          "text": [
            "Lee\n",
            "Jo\n",
            "{'name': 'Lee'}\n",
            "{'__module__': '__main__', 'stock_num': 2, '__init__': <function Warehouse.__init__ at 0x7f8694540bf8>, '__del__': <function Warehouse.__del__ at 0x7f8694540ea0>, '__dict__': <attribute '__dict__' of 'Warehouse' objects>, '__weakref__': <attribute '__weakref__' of 'Warehouse' objects>, '__doc__': None}\n",
            "2\n"
          ],
          "name": "stdout"
        }
      ]
    },
    {
      "cell_type": "code",
      "metadata": {
        "id": "oQBVq8S4gZWp",
        "colab_type": "code",
        "colab": {}
      },
      "source": [
        "del user2"
      ],
      "execution_count": 0,
      "outputs": []
    },
    {
      "cell_type": "code",
      "metadata": {
        "id": "ae6YfcEkfQPG",
        "colab_type": "code",
        "outputId": "00e8ca34-5545-41b4-dae3-2469d80f74de",
        "colab": {
          "base_uri": "https://localhost:8080/",
          "height": 71
        }
      },
      "source": [
        "print(Warehouse.__dict__)\n",
        "print(user1.stock_num)"
      ],
      "execution_count": 0,
      "outputs": [
        {
          "output_type": "stream",
          "text": [
            "{'__module__': '__main__', 'stock_num': 1, '__init__': <function Warehouse.__init__ at 0x7f8694540bf8>, '__del__': <function Warehouse.__del__ at 0x7f8694540ea0>, '__dict__': <attribute '__dict__' of 'Warehouse' objects>, '__weakref__': <attribute '__weakref__' of 'Warehouse' objects>, '__doc__': None}\n",
            "1\n"
          ],
          "name": "stdout"
        }
      ]
    },
    {
      "cell_type": "markdown",
      "metadata": {
        "id": "hY_5HGVhfVKR",
        "colab_type": "text"
      },
      "source": [
        "## 6.5 Example 04\n",
        "Advanced Dog class"
      ]
    },
    {
      "cell_type": "code",
      "metadata": {
        "id": "KQL7Uu1agqGP",
        "colab_type": "code",
        "colab": {}
      },
      "source": [
        "class Advanced_Dog(object): #obejct 상속\n",
        "  # 클래스 속성\n",
        "  species = 'firstdog'\n",
        "\n",
        "  # 초기화/인스턴스 속성\n",
        "  def __init__(self, name, age):\n",
        "    self.name = name\n",
        "    self.age = age\n",
        "  def info(self):\n",
        "    return f'{self.name} is {self.age} years old'\n",
        "  def bark(self, sound):\n",
        "    return f'{self.name} says {sound}!'"
      ],
      "execution_count": 0,
      "outputs": []
    },
    {
      "cell_type": "code",
      "metadata": {
        "id": "0bpiV5NOhWKY",
        "colab_type": "code",
        "colab": {}
      },
      "source": [
        "c = Advanced_Dog('july',4)\n",
        "d = Advanced_Dog('Marry',10)"
      ],
      "execution_count": 0,
      "outputs": []
    },
    {
      "cell_type": "code",
      "metadata": {
        "id": "7Sj1LIQxhfiC",
        "colab_type": "code",
        "outputId": "c4f9d481-c63d-4ffd-89a1-a40efdbfe0a5",
        "colab": {
          "base_uri": "https://localhost:8080/",
          "height": 34
        }
      },
      "source": [
        "print(c.info())"
      ],
      "execution_count": 0,
      "outputs": [
        {
          "output_type": "stream",
          "text": [
            "july is 4 years old\n"
          ],
          "name": "stdout"
        }
      ]
    },
    {
      "cell_type": "code",
      "metadata": {
        "id": "D3scLplghi-g",
        "colab_type": "code",
        "outputId": "527763d4-1a42-4036-f2e8-fdf4a60982c9",
        "colab": {
          "base_uri": "https://localhost:8080/",
          "height": 34
        }
      },
      "source": [
        "print(c.bark('bow wow'))"
      ],
      "execution_count": 0,
      "outputs": [
        {
          "output_type": "stream",
          "text": [
            "july says bow wow!\n"
          ],
          "name": "stdout"
        }
      ]
    },
    {
      "cell_type": "code",
      "metadata": {
        "id": "uaT_MZSHhoGO",
        "colab_type": "code",
        "colab": {}
      },
      "source": [
        "print()"
      ],
      "execution_count": 0,
      "outputs": []
    },
    {
      "cell_type": "markdown",
      "metadata": {
        "id": "p4aSvhlHiGwQ",
        "colab_type": "text"
      },
      "source": [
        "# Summary\n",
        "`self`: 인스턴스화된 대상   \n",
        "`Instance method`: self을 인자로 받는 것들.     \n",
        "`Class variable` : class와 모든 instance가 공유하는 속성   \n",
        "`Instance variable`: self를 붙이고 선언하는 변수들, 객체마다 별도로 존재한다.   \n",
        "`namespace` 객체를 인스턴스화 할 때 저장된 공간.    \n"
      ]
    }
  ]
}