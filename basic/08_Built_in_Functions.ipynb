{
  "nbformat": 4,
  "nbformat_minor": 0,
  "metadata": {
    "colab": {
      "name": "08_Built-in Functions.ipynb",
      "provenance": [],
      "toc_visible": true,
      "authorship_tag": "ABX9TyMDT8+nPlCrJlejwbbT5pSA",
      "include_colab_link": true
    },
    "kernelspec": {
      "name": "python3",
      "display_name": "Python 3"
    }
  },
  "cells": [
    {
      "cell_type": "markdown",
      "metadata": {
        "id": "view-in-github",
        "colab_type": "text"
      },
      "source": [
        "<a href=\"https://colab.research.google.com/github/gwangjinjeong/Python/blob/master/basic/08_Built_in_Functions.ipynb\" target=\"_parent\"><img src=\"https://colab.research.google.com/assets/colab-badge.svg\" alt=\"Open In Colab\"/></a>"
      ]
    },
    {
      "cell_type": "markdown",
      "metadata": {
        "id": "1WewraRBZ7kH",
        "colab_type": "text"
      },
      "source": [
        "# Bulit-in and External Functions"
      ]
    },
    {
      "cell_type": "markdown",
      "metadata": {
        "id": "cwzEEHk4Z_q0",
        "colab_type": "text"
      },
      "source": [
        "#*1. Built-in Function(내장함수)*"
      ]
    },
    {
      "cell_type": "markdown",
      "metadata": {
        "id": "VVAuqfSFaEAx",
        "colab_type": "text"
      },
      "source": [
        "## 1.1 abs : 절대값"
      ]
    },
    {
      "cell_type": "code",
      "metadata": {
        "id": "9Ka60CQRZyo6",
        "colab_type": "code",
        "colab": {
          "base_uri": "https://localhost:8080/",
          "height": 35
        },
        "outputId": "7ac30f1e-2cfe-4ef6-a649-5843f61e03f8"
      },
      "source": [
        "3print(abs(-3))"
      ],
      "execution_count": 1,
      "outputs": [
        {
          "output_type": "stream",
          "text": [
            "3\n"
          ],
          "name": "stdout"
        }
      ]
    },
    {
      "cell_type": "markdown",
      "metadata": {
        "id": "2FaZFQqyaL7H",
        "colab_type": "text"
      },
      "source": [
        "## 1.2 all, any : iterable 요소 검사\n",
        "(참, 거짓) 반환"
      ]
    },
    {
      "cell_type": "code",
      "metadata": {
        "id": "bb_azGxHaKCP",
        "colab_type": "code",
        "colab": {
          "base_uri": "https://localhost:8080/",
          "height": 87
        },
        "outputId": "b9eb5a9a-ca0f-475e-b75b-cbf7ddb0d642"
      },
      "source": [
        "print('all은 리스트내 and연산')\n",
        "print(all([1,2,3]))\n",
        "print('any은 리스트내 or연산')\n",
        "print(any([1,2,0]))"
      ],
      "execution_count": 2,
      "outputs": [
        {
          "output_type": "stream",
          "text": [
            "all은 리스트내 and연산\n",
            "True\n",
            "any은 리스트내 or연산\n",
            "True\n"
          ],
          "name": "stdout"
        }
      ]
    },
    {
      "cell_type": "markdown",
      "metadata": {
        "id": "6JZHpDfnayYh",
        "colab_type": "text"
      },
      "source": [
        "## 1.3 char & ord : 아스키 <-> 문자"
      ]
    },
    {
      "cell_type": "code",
      "metadata": {
        "id": "jz2h2BdFawL0",
        "colab_type": "code",
        "colab": {
          "base_uri": "https://localhost:8080/",
          "height": 52
        },
        "outputId": "b61d1a6b-e37e-443e-a2df-48f68bf384ac"
      },
      "source": [
        "print(chr(67))\n",
        "print(ord('C'))"
      ],
      "execution_count": 3,
      "outputs": [
        {
          "output_type": "stream",
          "text": [
            "C\n",
            "67\n"
          ],
          "name": "stdout"
        }
      ]
    },
    {
      "cell_type": "markdown",
      "metadata": {
        "id": "6YA6Ah4ya_8p",
        "colab_type": "text"
      },
      "source": [
        "## 1.4 enumerate : index + Iterable 생성"
      ]
    },
    {
      "cell_type": "code",
      "metadata": {
        "id": "M9VpSxWTa8X7",
        "colab_type": "code",
        "colab": {
          "base_uri": "https://localhost:8080/",
          "height": 105
        },
        "outputId": "058985ce-f06b-44cd-a39f-a9f62417c805"
      },
      "source": [
        "for i, name in enumerate(['a', 'b', 'c', 'd', 'e']):\n",
        "  print(i, name)"
      ],
      "execution_count": 4,
      "outputs": [
        {
          "output_type": "stream",
          "text": [
            "0 a\n",
            "1 b\n",
            "2 c\n",
            "3 d\n",
            "4 e\n"
          ],
          "name": "stdout"
        }
      ]
    },
    {
      "cell_type": "markdown",
      "metadata": {
        "id": "IbgogQLobUDO",
        "colab_type": "text"
      },
      "source": [
        "## **1.5 filter** : 함수조건에 따라 여과 후 반환"
      ]
    },
    {
      "cell_type": "code",
      "metadata": {
        "id": "1O6YO_debT7s",
        "colab_type": "code",
        "colab": {}
      },
      "source": [
        "def conv_pos(x):\n",
        "  return abs(x) > 2"
      ],
      "execution_count": 0,
      "outputs": []
    },
    {
      "cell_type": "code",
      "metadata": {
        "id": "FEdk9KrqbTqY",
        "colab_type": "code",
        "colab": {
          "base_uri": "https://localhost:8080/",
          "height": 35
        },
        "outputId": "76ea421c-c21d-41c5-e935-0b7dbd6c7d01"
      },
      "source": [
        "print(filter(conv_pos,[1,2,3,4,5,6]))"
      ],
      "execution_count": 6,
      "outputs": [
        {
          "output_type": "stream",
          "text": [
            "<filter object at 0x7fc99c865d68>\n"
          ],
          "name": "stdout"
        }
      ]
    },
    {
      "cell_type": "code",
      "metadata": {
        "id": "OzemHTt0bPIh",
        "colab_type": "code",
        "colab": {
          "base_uri": "https://localhost:8080/",
          "height": 35
        },
        "outputId": "e513d351-62a6-4034-85fa-5cd05873e3a2"
      },
      "source": [
        "list(filter(conv_pos,[1,2,3,4,5,6]))"
      ],
      "execution_count": 7,
      "outputs": [
        {
          "output_type": "execute_result",
          "data": {
            "text/plain": [
              "[3, 4, 5, 6]"
            ]
          },
          "metadata": {
            "tags": []
          },
          "execution_count": 7
        }
      ]
    },
    {
      "cell_type": "markdown",
      "metadata": {
        "id": "1FnzElVlcKbX",
        "colab_type": "text"
      },
      "source": [
        "**+)** 당연하게도  `lambda`를 사용해서 쓸수도 있다!"
      ]
    },
    {
      "cell_type": "code",
      "metadata": {
        "id": "xE6k7g24cJoB",
        "colab_type": "code",
        "colab": {
          "base_uri": "https://localhost:8080/",
          "height": 35
        },
        "outputId": "cf5ee1b0-eef6-4694-a580-4a0b1cdb52fa"
      },
      "source": [
        "print(list(filter(lambda x: abs(x) > 2, [1, -3, 2, 4, 6])))"
      ],
      "execution_count": 8,
      "outputs": [
        {
          "output_type": "stream",
          "text": [
            "[-3, 4, 6]\n"
          ],
          "name": "stdout"
        }
      ]
    },
    {
      "cell_type": "markdown",
      "metadata": {
        "id": "iVbmlq_ybOfJ",
        "colab_type": "text"
      },
      "source": [
        "## 1.6 id : 객체의 reference 반환"
      ]
    },
    {
      "cell_type": "markdown",
      "metadata": {
        "id": "fntlQpKCchi9",
        "colab_type": "text"
      },
      "source": [
        "5와 4는 전혀 다른숫자이기 때문에 다른 reference를 반환한다."
      ]
    },
    {
      "cell_type": "code",
      "metadata": {
        "id": "FDqRp-kRb_xP",
        "colab_type": "code",
        "colab": {
          "base_uri": "https://localhost:8080/",
          "height": 52
        },
        "outputId": "5e72749f-07ab-47df-96b6-f92fba7905a7"
      },
      "source": [
        "print(id(int(5)))\n",
        "print(id(int(4)))"
      ],
      "execution_count": 9,
      "outputs": [
        {
          "output_type": "stream",
          "text": [
            "10914624\n",
            "10914592\n"
          ],
          "name": "stdout"
        }
      ]
    },
    {
      "cell_type": "markdown",
      "metadata": {
        "id": "0OEIK3nDcnTK",
        "colab_type": "text"
      },
      "source": [
        "## 1.7 len : 요소의 길이 반환"
      ]
    },
    {
      "cell_type": "code",
      "metadata": {
        "id": "K0jdHdb3b_50",
        "colab_type": "code",
        "colab": {
          "base_uri": "https://localhost:8080/",
          "height": 35
        },
        "outputId": "70a28383-2492-490c-dbf8-535a402eed5f"
      },
      "source": [
        "print(len([1,2,3,4]))"
      ],
      "execution_count": 12,
      "outputs": [
        {
          "output_type": "stream",
          "text": [
            "4\n"
          ],
          "name": "stdout"
        }
      ]
    },
    {
      "cell_type": "code",
      "metadata": {
        "id": "1VvgwRMacACb",
        "colab_type": "code",
        "colab": {
          "base_uri": "https://localhost:8080/",
          "height": 35
        },
        "outputId": "12f570cb-2dfd-422c-d94e-be904e123da5"
      },
      "source": [
        "print(len('abcde') - 1)"
      ],
      "execution_count": 11,
      "outputs": [
        {
          "output_type": "stream",
          "text": [
            "4\n"
          ],
          "name": "stdout"
        }
      ]
    },
    {
      "cell_type": "markdown",
      "metadata": {
        "id": "7N5dpSL4c35q",
        "colab_type": "text"
      },
      "source": [
        "## 1.8 max, min : 최대 최소값"
      ]
    },
    {
      "cell_type": "code",
      "metadata": {
        "id": "V0HRH5QlcxkU",
        "colab_type": "code",
        "colab": {}
      },
      "source": [
        "listTest1 = [1,2,3,4,5]\n",
        "listTest2 = 'abcde'"
      ],
      "execution_count": 0,
      "outputs": []
    },
    {
      "cell_type": "code",
      "metadata": {
        "id": "4rCVdWPLdAAv",
        "colab_type": "code",
        "colab": {
          "base_uri": "https://localhost:8080/",
          "height": 87
        },
        "outputId": "36f6471c-71d7-458c-8ae8-fabbac913fdd"
      },
      "source": [
        "print(max(listTest1))\n",
        "print(min(listTest1))\n",
        "print(max(listTest2))\n",
        "print(min(listTest2))"
      ],
      "execution_count": 15,
      "outputs": [
        {
          "output_type": "stream",
          "text": [
            "5\n",
            "1\n",
            "e\n",
            "a\n"
          ],
          "name": "stdout"
        }
      ]
    },
    {
      "cell_type": "markdown",
      "metadata": {
        "id": "RVBFd1cjdThc",
        "colab_type": "text"
      },
      "source": [
        "## **1.9 map** : 함수실행 후 반환"
      ]
    },
    {
      "cell_type": "code",
      "metadata": {
        "id": "1I1MYPFQdRrp",
        "colab_type": "code",
        "colab": {}
      },
      "source": [
        "def conv_abs(x):\n",
        "  return abs(x)"
      ],
      "execution_count": 0,
      "outputs": []
    },
    {
      "cell_type": "code",
      "metadata": {
        "id": "83p02c8PdmYp",
        "colab_type": "code",
        "colab": {
          "base_uri": "https://localhost:8080/",
          "height": 35
        },
        "outputId": "db49d52b-542a-484a-d9e8-0b145ea3e0e1"
      },
      "source": [
        "print(list(map(conv_abs, [1, -3, 2, 0, -5, 6])))"
      ],
      "execution_count": 17,
      "outputs": [
        {
          "output_type": "stream",
          "text": [
            "[1, 3, 2, 0, 5, 6]\n"
          ],
          "name": "stdout"
        }
      ]
    },
    {
      "cell_type": "code",
      "metadata": {
        "id": "xiz3Yjc_dqX-",
        "colab_type": "code",
        "colab": {
          "base_uri": "https://localhost:8080/",
          "height": 35
        },
        "outputId": "161786fe-0169-48ce-e6fc-2df735eaf789"
      },
      "source": [
        "print(list(map(lambda x : abs(x), [1, -2, 3, -4])))"
      ],
      "execution_count": 18,
      "outputs": [
        {
          "output_type": "stream",
          "text": [
            "[1, 2, 3, 4]\n"
          ],
          "name": "stdout"
        }
      ]
    },
    {
      "cell_type": "markdown",
      "metadata": {
        "id": "JaqMebxWd1jn",
        "colab_type": "text"
      },
      "source": [
        "## 1.10 pow : 제곱값을 반환"
      ]
    },
    {
      "cell_type": "code",
      "metadata": {
        "id": "nvGNI896dxr1",
        "colab_type": "code",
        "colab": {
          "base_uri": "https://localhost:8080/",
          "height": 35
        },
        "outputId": "3f4dfb94-9b62-4284-f57b-d5827e66b732"
      },
      "source": [
        "print(pow(2,10))"
      ],
      "execution_count": 19,
      "outputs": [
        {
          "output_type": "stream",
          "text": [
            "1024\n"
          ],
          "name": "stdout"
        }
      ]
    },
    {
      "cell_type": "markdown",
      "metadata": {
        "id": "eWzZFz8ld7MI",
        "colab_type": "text"
      },
      "source": [
        "## 1.11 sorted : 오름차순으로 정렬"
      ]
    },
    {
      "cell_type": "code",
      "metadata": {
        "id": "SwpnH67Zd67y",
        "colab_type": "code",
        "colab": {
          "base_uri": "https://localhost:8080/",
          "height": 52
        },
        "outputId": "d52f722e-d4ef-4e60-da88-1611d83f9054"
      },
      "source": [
        "print(sorted([6,7,1,2,4,7,2]))\n",
        "print(sorted(['a','b','s','x','g','c']))"
      ],
      "execution_count": 21,
      "outputs": [
        {
          "output_type": "stream",
          "text": [
            "[1, 2, 2, 4, 6, 7, 7]\n",
            "['a', 'b', 'c', 'g', 's', 'x']\n"
          ],
          "name": "stdout"
        }
      ]
    },
    {
      "cell_type": "markdown",
      "metadata": {
        "id": "BJu0EABMeiKp",
        "colab_type": "text"
      },
      "source": [
        "## 1.12 zip : 객체 요소를 묶어서  반환"
      ]
    },
    {
      "cell_type": "code",
      "metadata": {
        "id": "ro7XLoWdevT8",
        "colab_type": "code",
        "colab": {
          "base_uri": "https://localhost:8080/",
          "height": 35
        },
        "outputId": "2b218180-bcb8-46e8-e98a-7e5bcb32aedb"
      },
      "source": [
        "print(list(zip([1, 2, 3], [4, 5, 6])))"
      ],
      "execution_count": 22,
      "outputs": [
        {
          "output_type": "stream",
          "text": [
            "[(1, 4), (2, 5), (3, 6)]\n"
          ],
          "name": "stdout"
        }
      ]
    },
    {
      "cell_type": "code",
      "metadata": {
        "id": "juVAn0uieeDM",
        "colab_type": "code",
        "colab": {
          "base_uri": "https://localhost:8080/",
          "height": 35
        },
        "outputId": "db36b6ed-5a7f-4c34-98b3-1171745a664d"
      },
      "source": [
        "print(list(zip([1, 2, 3], [4, 5])))"
      ],
      "execution_count": 23,
      "outputs": [
        {
          "output_type": "stream",
          "text": [
            "[(1, 4), (2, 5)]\n"
          ],
          "name": "stdout"
        }
      ]
    }
  ]
}