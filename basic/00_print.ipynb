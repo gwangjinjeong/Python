{
  "nbformat": 4,
  "nbformat_minor": 0,
  "metadata": {
    "colab": {
      "name": "00_print.ipynb",
      "provenance": [],
      "authorship_tag": "ABX9TyN9G6+KL76jtKNvN99t4weq",
      "include_colab_link": true
    },
    "kernelspec": {
      "name": "python3",
      "display_name": "Python 3"
    }
  },
  "cells": [
    {
      "cell_type": "markdown",
      "metadata": {
        "id": "view-in-github",
        "colab_type": "text"
      },
      "source": [
        "<a href=\"https://colab.research.google.com/github/gwangjinjeong/Python/blob/master/basic/00_print.ipynb\" target=\"_parent\"><img src=\"https://colab.research.google.com/assets/colab-badge.svg\" alt=\"Open In Colab\"/></a>"
      ]
    },
    {
      "cell_type": "markdown",
      "metadata": {
        "id": "wtChGpinP7Gl",
        "colab_type": "text"
      },
      "source": [
        "# 00. Print"
      ]
    },
    {
      "cell_type": "markdown",
      "metadata": {
        "id": "9_JuJDkfPtlB",
        "colab_type": "text"
      },
      "source": [
        "참고 : Escape 코드\n",
        "\n",
        "* \\n : 개행, 엔터\n",
        "* \\t : 탭\n",
        "* \\000 : 널 문자"
      ]
    },
    {
      "cell_type": "code",
      "metadata": {
        "id": "nJHZ14NiPx5n",
        "colab_type": "code",
        "outputId": "39a01986-5c8f-470e-9209-7a5e2cd8d32a",
        "colab": {
          "base_uri": "https://localhost:8080/",
          "height": 85
        }
      },
      "source": [
        "print('Python Start!') \n",
        "print(\"Python Start!\") \n",
        "print(\"\"\"Python Start!\"\"\")\n",
        "print('''Python Start!''')"
      ],
      "execution_count": 0,
      "outputs": [
        {
          "output_type": "stream",
          "text": [
            "Python Start!\n",
            "Python Start!\n",
            "Python Start!\n",
            "Python Start!\n"
          ],
          "name": "stdout"
        }
      ]
    },
    {
      "cell_type": "markdown",
      "metadata": {
        "id": "U6NSow_YQXSu",
        "colab_type": "text"
      },
      "source": [
        "## 1) Separator parameter"
      ]
    },
    {
      "cell_type": "code",
      "metadata": {
        "id": "JV8DWpLNQaSE",
        "colab_type": "code",
        "outputId": "f759cec7-54a9-48f4-ebae-7b33c99403f3",
        "colab": {
          "base_uri": "https://localhost:8080/",
          "height": 68
        }
      },
      "source": [
        "print('P', 'Y', 'T', 'H','O','N', sep='')\n",
        "print('010', '7777', '7777', sep='-')\n",
        "print('python', 'google.com', sep='@')"
      ],
      "execution_count": 0,
      "outputs": [
        {
          "output_type": "stream",
          "text": [
            "PYTHON\n",
            "010-7777-7777\n",
            "python@google.com\n"
          ],
          "name": "stdout"
        }
      ]
    },
    {
      "cell_type": "markdown",
      "metadata": {
        "id": "gma7mWFiQcd2",
        "colab_type": "text"
      },
      "source": [
        "## 2) End parameter\n",
        "원래 마지막에 개행(줄넘김)이 붙는데 그것을 내가 따로 설정할 수 있는것."
      ]
    },
    {
      "cell_type": "code",
      "metadata": {
        "id": "y42VzGwoQlpJ",
        "colab_type": "code",
        "outputId": "d166e08c-a284-4ee6-a038-9ed48eabc25e",
        "colab": {
          "base_uri": "https://localhost:8080/",
          "height": 34
        }
      },
      "source": [
        "print('Welcome To', end=' ')\n",
        "print('IT News', end=' ')\n",
        "print('Web Site')"
      ],
      "execution_count": 0,
      "outputs": [
        {
          "output_type": "stream",
          "text": [
            "Welcome To IT News Web Site\n"
          ],
          "name": "stdout"
        }
      ]
    },
    {
      "cell_type": "markdown",
      "metadata": {
        "id": "9k_y4WQVQw67",
        "colab_type": "text"
      },
      "source": [
        "## 3) File parameter\n",
        "stdout : 콘솔 아웃 즉, print문과 같다."
      ]
    },
    {
      "cell_type": "code",
      "metadata": {
        "id": "7c00VmYZQz68",
        "colab_type": "code",
        "outputId": "fb837dc7-ffd5-4eed-e8e4-f10a68cd5ad0",
        "colab": {
          "base_uri": "https://localhost:8080/",
          "height": 34
        }
      },
      "source": [
        "import sys\n",
        "\n",
        "print('Learn Python', file=sys.stdout)"
      ],
      "execution_count": 0,
      "outputs": [
        {
          "output_type": "stream",
          "text": [
            "Learn Python\n"
          ],
          "name": "stdout"
        }
      ]
    },
    {
      "cell_type": "markdown",
      "metadata": {
        "id": "tz8HkSOsQ2su",
        "colab_type": "text"
      },
      "source": [
        "## 4) Format parameter"
      ]
    },
    {
      "cell_type": "markdown",
      "metadata": {
        "id": "kJwGwwWaTOW8",
        "colab_type": "text"
      },
      "source": [
        "%s는 문자열"
      ]
    },
    {
      "cell_type": "code",
      "metadata": {
        "id": "OiKhOc6hRJx3",
        "colab_type": "code",
        "outputId": "582ee0d6-d4ca-493d-c6ec-98283455dd0a",
        "colab": {
          "base_uri": "https://localhost:8080/",
          "height": 68
        }
      },
      "source": [
        "print('%s %s' % ('one', 'two'))\n",
        "print('{} {}'.format('one', 'two'))\n",
        "# 0번째는 one이니 one이 뒤에 온다.\n",
        "print('{1} {0}'.format('one', 'two')) "
      ],
      "execution_count": 0,
      "outputs": [
        {
          "output_type": "stream",
          "text": [
            "one two\n",
            "one two\n",
            "two one\n"
          ],
          "name": "stdout"
        }
      ]
    },
    {
      "cell_type": "code",
      "metadata": {
        "id": "AxzDU6BsRUEr",
        "colab_type": "code",
        "outputId": "4dd600f0-d450-450f-e67a-b62167c3ee07",
        "colab": {
          "base_uri": "https://localhost:8080/",
          "height": 153
        }
      },
      "source": [
        "# 10s: 10개 공백확보후 문자열을 써줘.\n",
        "print('1. %10s' % ('nice',))\n",
        "print('1. {:>10}'.format('nice'))\n",
        "# 공백을 반대로 채워주는것.\n",
        "print('2. %-10s' % ('nice',)) \n",
        "print('2. {:<10}'.format('nice')) # == {:10}\n",
        "# 원하는 자릿수 만큼 보여줘\n",
        "print('3. %.5s' %('niceToMeetYou'))\n",
        "print('3. {:10.5}'.format('niceToMeetYou'))\n",
        "#공백 대신 _로 채워줘\n",
        "print('4. {:_>10}'.format('nice'))\n",
        "# 중앙정렬\n",
        "print('5. {:^10}'.format('nice'))"
      ],
      "execution_count": 0,
      "outputs": [
        {
          "output_type": "stream",
          "text": [
            "1.       nice\n",
            "1.       nice\n",
            "2. nice      \n",
            "2. nice      \n",
            "3. niceT\n",
            "3. niceT     \n",
            "4. ______nice\n",
            "5.    nice   \n"
          ],
          "name": "stdout"
        }
      ]
    },
    {
      "cell_type": "code",
      "metadata": {
        "id": "R2ro2jwcRgxG",
        "colab_type": "code",
        "outputId": "b7bec254-c3fb-4e34-c414-7b4373596b56",
        "colab": {
          "base_uri": "https://localhost:8080/",
          "height": 102
        }
      },
      "source": [
        "# %d : 정수형\n",
        "print('%d %d' % (1, 2))\n",
        "print('{} {}'.format(1, 2))\n",
        "print()\n",
        "print('%4d' % (42,))\n",
        "print('{:4d}'.format(42))"
      ],
      "execution_count": 0,
      "outputs": [
        {
          "output_type": "stream",
          "text": [
            "1 2\n",
            "1 2\n",
            "\n",
            "  42\n",
            "  42\n"
          ],
          "name": "stdout"
        }
      ]
    },
    {
      "cell_type": "code",
      "metadata": {
        "id": "g53hcQhyQ7HJ",
        "colab_type": "code",
        "outputId": "2f880d33-ea16-487c-858f-78e4b1a15152",
        "colab": {
          "base_uri": "https://localhost:8080/",
          "height": 85
        }
      },
      "source": [
        "# %f : 실수형\n",
        "print('%f' % (3.141592653589793,))\n",
        "print('{:f}'.format(3.141592653589793))\n",
        "# 정수부와 소수부를 얼마나 출력하길 원하는지?\n",
        "print('%06.2f' % (3.141592653589793,))\n",
        "print('{:06.2f}'.format(3.141592653589793))"
      ],
      "execution_count": 0,
      "outputs": [
        {
          "output_type": "stream",
          "text": [
            "3.141593\n",
            "3.141593\n",
            "003.14\n",
            "003.14\n"
          ],
          "name": "stdout"
        }
      ]
    },
    {
      "cell_type": "code",
      "metadata": {
        "id": "i_wik0PCRo6Z",
        "colab_type": "code",
        "outputId": "ed217879-1543-4ca6-a226-093779b63566",
        "colab": {
          "base_uri": "https://localhost:8080/",
          "height": 34
        }
      },
      "source": [
        "# f\n",
        "a = 'gwangjin'\n",
        "print(f'hi my name is {a}')"
      ],
      "execution_count": 0,
      "outputs": [
        {
          "output_type": "stream",
          "text": [
            "hi my name is gwangjin\n"
          ],
          "name": "stdout"
        }
      ]
    }
  ]
}