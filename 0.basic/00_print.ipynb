{
  "nbformat": 4,
  "nbformat_minor": 0,
  "metadata": {
    "colab": {
      "name": "00_print.ipynb",
      "provenance": [],
      "toc_visible": true,
      "authorship_tag": "ABX9TyOihhpHRw3B6PH/wlgqmH/h",
      "include_colab_link": true
    },
    "kernelspec": {
      "name": "python3",
      "display_name": "Python 3"
    }
  },
  "cells": [
    {
      "cell_type": "markdown",
      "metadata": {
        "id": "view-in-github",
        "colab_type": "text"
      },
      "source": [
        "<a href=\"https://colab.research.google.com/github/gwangjinjeong/Python/blob/master/0.basic/00_print.ipynb\" target=\"_parent\"><img src=\"https://colab.research.google.com/assets/colab-badge.svg\" alt=\"Open In Colab\"/></a>"
      ]
    },
    {
      "cell_type": "markdown",
      "metadata": {
        "id": "wtChGpinP7Gl",
        "colab_type": "text"
      },
      "source": [
        "# 00. Print"
      ]
    },
    {
      "cell_type": "markdown",
      "metadata": {
        "id": "9_JuJDkfPtlB",
        "colab_type": "text"
      },
      "source": [
        "참고 : Escape 코드\n",
        "\n",
        "* \\n : 개행, 엔터\n",
        "* \\t : 탭\n",
        "* \\000 : 널 문자"
      ]
    },
    {
      "cell_type": "code",
      "metadata": {
        "id": "nJHZ14NiPx5n",
        "colab_type": "code",
        "outputId": "39a01986-5c8f-470e-9209-7a5e2cd8d32a",
        "colab": {
          "base_uri": "https://localhost:8080/",
          "height": 85
        }
      },
      "source": [
        "print('Python Start!') \n",
        "print(\"Python Start!\") \n",
        "print(\"\"\"Python Start!\"\"\")\n",
        "print('''Python Start!''')"
      ],
      "execution_count": 0,
      "outputs": [
        {
          "output_type": "stream",
          "text": [
            "Python Start!\n",
            "Python Start!\n",
            "Python Start!\n",
            "Python Start!\n"
          ],
          "name": "stdout"
        }
      ]
    },
    {
      "cell_type": "markdown",
      "metadata": {
        "id": "U6NSow_YQXSu",
        "colab_type": "text"
      },
      "source": [
        "## 1) Separator parameter"
      ]
    },
    {
      "cell_type": "code",
      "metadata": {
        "id": "JV8DWpLNQaSE",
        "colab_type": "code",
        "outputId": "f759cec7-54a9-48f4-ebae-7b33c99403f3",
        "colab": {
          "base_uri": "https://localhost:8080/",
          "height": 68
        }
      },
      "source": [
        "print('P', 'Y', 'T', 'H','O','N', sep='')\n",
        "print('010', '7777', '7777', sep='-')\n",
        "print('python', 'google.com', sep='@')"
      ],
      "execution_count": 0,
      "outputs": [
        {
          "output_type": "stream",
          "text": [
            "PYTHON\n",
            "010-7777-7777\n",
            "python@google.com\n"
          ],
          "name": "stdout"
        }
      ]
    },
    {
      "cell_type": "markdown",
      "metadata": {
        "id": "gma7mWFiQcd2",
        "colab_type": "text"
      },
      "source": [
        "## 2) End parameter"
      ]
    },
    {
      "cell_type": "code",
      "metadata": {
        "id": "y42VzGwoQlpJ",
        "colab_type": "code",
        "outputId": "d166e08c-a284-4ee6-a038-9ed48eabc25e",
        "colab": {
          "base_uri": "https://localhost:8080/",
          "height": 34
        }
      },
      "source": [
        "print('Welcome To', end=' ')\n",
        "print('IT News', end=' ')\n",
        "print('Web Site')"
      ],
      "execution_count": 0,
      "outputs": [
        {
          "output_type": "stream",
          "text": [
            "Welcome To IT News Web Site\n"
          ],
          "name": "stdout"
        }
      ]
    },
    {
      "cell_type": "markdown",
      "metadata": {
        "id": "9k_y4WQVQw67",
        "colab_type": "text"
      },
      "source": [
        "## 3) File parameter"
      ]
    },
    {
      "cell_type": "code",
      "metadata": {
        "id": "7c00VmYZQz68",
        "colab_type": "code",
        "outputId": "fb837dc7-ffd5-4eed-e8e4-f10a68cd5ad0",
        "colab": {
          "base_uri": "https://localhost:8080/",
          "height": 34
        }
      },
      "source": [
        "import sys\n",
        "\n",
        "print('Learn Python', file=sys.stdout)"
      ],
      "execution_count": 0,
      "outputs": [
        {
          "output_type": "stream",
          "text": [
            "Learn Python\n"
          ],
          "name": "stdout"
        }
      ]
    },
    {
      "cell_type": "markdown",
      "metadata": {
        "id": "tz8HkSOsQ2su",
        "colab_type": "text"
      },
      "source": [
        "## 4) Format parameter"
      ]
    },
    {
      "cell_type": "code",
      "metadata": {
        "id": "OiKhOc6hRJx3",
        "colab_type": "code",
        "outputId": "702860bf-98ca-4aae-805a-57cf7f74b2ce",
        "colab": {
          "base_uri": "https://localhost:8080/",
          "height": 68
        }
      },
      "source": [
        "print('%s %s' % ('one', 'two'))\n",
        "print('{} {}'.format('one', 'two'))\n",
        "print('{1} {0}'.format('one', 'two'))"
      ],
      "execution_count": 0,
      "outputs": [
        {
          "output_type": "stream",
          "text": [
            "one two\n",
            "one two\n",
            "two one\n"
          ],
          "name": "stdout"
        }
      ]
    },
    {
      "cell_type": "code",
      "metadata": {
        "id": "AxzDU6BsRUEr",
        "colab_type": "code",
        "outputId": "6e62bd03-e8f5-4de5-9f5b-21656cccadc5",
        "colab": {
          "base_uri": "https://localhost:8080/",
          "height": 51
        }
      },
      "source": [
        "print('%10s' % ('nice',))\n",
        "print('{:>10}'.format('nice'))\n"
      ],
      "execution_count": 0,
      "outputs": [
        {
          "output_type": "stream",
          "text": [
            "      nice\n",
            "      nice\n"
          ],
          "name": "stdout"
        }
      ]
    },
    {
      "cell_type": "code",
      "metadata": {
        "id": "bOzS-35oRZit",
        "colab_type": "code",
        "outputId": "e9689319-54a4-4899-be81-ad7f4b3e1cda",
        "colab": {
          "base_uri": "https://localhost:8080/",
          "height": 51
        }
      },
      "source": [
        "print('{:_<10}'.format('nice'))\n",
        "print('{:^10}'.format('nice'))"
      ],
      "execution_count": 0,
      "outputs": [
        {
          "output_type": "stream",
          "text": [
            "nice______\n",
            "   nice   \n"
          ],
          "name": "stdout"
        }
      ]
    },
    {
      "cell_type": "code",
      "metadata": {
        "id": "R2ro2jwcRgxG",
        "colab_type": "code",
        "outputId": "cdf99326-9691-4e07-d850-b7a82cacc114",
        "colab": {
          "base_uri": "https://localhost:8080/",
          "height": 102
        }
      },
      "source": [
        "# %d\n",
        "print('%d %d' % (1, 2))\n",
        "print('{} {}'.format(1, 2))\n",
        "print()\n",
        "print('%4d' % (42,))\n",
        "print('{:4d}'.format(42))"
      ],
      "execution_count": 0,
      "outputs": [
        {
          "output_type": "stream",
          "text": [
            "1 2\n",
            "1 2\n",
            "\n",
            "  42\n",
            "  42\n"
          ],
          "name": "stdout"
        }
      ]
    },
    {
      "cell_type": "code",
      "metadata": {
        "id": "g53hcQhyQ7HJ",
        "colab_type": "code",
        "outputId": "c09f40be-359e-4043-fb3f-e7ad5a9240cb",
        "colab": {
          "base_uri": "https://localhost:8080/",
          "height": 102
        }
      },
      "source": [
        "# %f\n",
        "print('%f' % (3.141592653589793,))\n",
        "print('{:f}'.format(3.141592653589793))\n",
        "print()\n",
        "print('%06.2f' % (3.141592653589793,))\n",
        "print('{:06.2f}'.format(3.141592653589793))"
      ],
      "execution_count": 0,
      "outputs": [
        {
          "output_type": "stream",
          "text": [
            "3.141593\n",
            "3.141593\n",
            "\n",
            "003.14\n",
            "003.14\n"
          ],
          "name": "stdout"
        }
      ]
    },
    {
      "cell_type": "code",
      "metadata": {
        "id": "i_wik0PCRo6Z",
        "colab_type": "code",
        "outputId": "ed217879-1543-4ca6-a226-093779b63566",
        "colab": {
          "base_uri": "https://localhost:8080/",
          "height": 34
        }
      },
      "source": [
        "# f\n",
        "a = 'gwangjin'\n",
        "print(f'hi my name is {a}')"
      ],
      "execution_count": 0,
      "outputs": [
        {
          "output_type": "stream",
          "text": [
            "hi my name is gwangjin\n"
          ],
          "name": "stdout"
        }
      ]
    }
  ]
}